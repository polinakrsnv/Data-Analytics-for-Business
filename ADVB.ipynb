{
 "cells": [
  {
   "cell_type": "code",
   "execution_count": 54,
   "metadata": {
    "id": "6tY2dUOWhaYA"
   },
   "outputs": [],
   "source": [
    "import pandas as pd"
   ]
  },
  {
   "cell_type": "markdown",
   "metadata": {},
   "source": [
    "Скачаем данные: "
   ]
  },
  {
   "cell_type": "code",
   "execution_count": 55,
   "metadata": {
    "colab": {
     "base_uri": "https://localhost:8080/"
    },
    "id": "nSUCvvjwht8v",
    "outputId": "12d37b54-b467-40dc-97cb-102b60957900"
   },
   "outputs": [],
   "source": [
    "df = pd.read_excel('/Users/ksushazinoveva/Downloads/data.xlsx')"
   ]
  },
  {
   "cell_type": "code",
   "execution_count": 56,
   "metadata": {
    "id": "4Q-UXOtmoD2D"
   },
   "outputs": [],
   "source": [
    "df['created_at'] = df['created_at'].dt.date"
   ]
  },
  {
   "cell_type": "code",
   "execution_count": 57,
   "metadata": {
    "id": "WX9Woe6knus9"
   },
   "outputs": [],
   "source": [
    "target = pd.read_excel('/Users/ksushazinoveva/Downloads/data.xlsx', 'убытки(целевая переменная)')"
   ]
  },
  {
   "cell_type": "code",
   "execution_count": 58,
   "metadata": {
    "colab": {
     "base_uri": "https://localhost:8080/",
     "height": 386
    },
    "id": "cxsq0ygjoyMp",
    "outputId": "2f7bdb8d-b55b-4ef3-f659-46aedce654de"
   },
   "outputs": [
    {
     "data": {
      "text/html": [
       "<div>\n",
       "<style scoped>\n",
       "    .dataframe tbody tr th:only-of-type {\n",
       "        vertical-align: middle;\n",
       "    }\n",
       "\n",
       "    .dataframe tbody tr th {\n",
       "        vertical-align: top;\n",
       "    }\n",
       "\n",
       "    .dataframe thead th {\n",
       "        text-align: right;\n",
       "    }\n",
       "</style>\n",
       "<table border=\"1\" class=\"dataframe\">\n",
       "  <thead>\n",
       "    <tr style=\"text-align: right;\">\n",
       "      <th></th>\n",
       "      <th>created_at</th>\n",
       "      <th>status</th>\n",
       "      <th>guarant_letter_uuid</th>\n",
       "      <th>comment_len</th>\n",
       "      <th>is_paid_by_patient</th>\n",
       "      <th>patient_id</th>\n",
       "      <th>has_doctor</th>\n",
       "      <th>doctor_len</th>\n",
       "      <th>diagnosis_len</th>\n",
       "      <th>diagnosis_clarification_len</th>\n",
       "      <th>...</th>\n",
       "      <th>service_status</th>\n",
       "      <th>service_quantity</th>\n",
       "      <th>service_code</th>\n",
       "      <th>folk_1_code</th>\n",
       "      <th>folk_2_code</th>\n",
       "      <th>folk_3_code</th>\n",
       "      <th>folk_4_code</th>\n",
       "      <th>service_level_3_category_hash</th>\n",
       "      <th>service_level_2_category_hash</th>\n",
       "      <th>service_level</th>\n",
       "    </tr>\n",
       "  </thead>\n",
       "  <tbody>\n",
       "    <tr>\n",
       "      <th>0</th>\n",
       "      <td>2022-02-28</td>\n",
       "      <td>delivered</td>\n",
       "      <td>7f2a9c90-1599-42a4-871d-b6cfc5349f24</td>\n",
       "      <td>49</td>\n",
       "      <td>False</td>\n",
       "      <td>176587</td>\n",
       "      <td>True</td>\n",
       "      <td>0</td>\n",
       "      <td>0</td>\n",
       "      <td>0</td>\n",
       "      <td>...</td>\n",
       "      <td>0</td>\n",
       "      <td>1</td>\n",
       "      <td>0fc1c709c57b84c756e2347fc5dda380</td>\n",
       "      <td>a3dd97667c8f2bb47a7391c769e2e868</td>\n",
       "      <td>c951270e425b15fc20c64da4341c1d89</td>\n",
       "      <td>63a9f0ea7bb98050796b649e85481845</td>\n",
       "      <td>NaN</td>\n",
       "      <td>c951270e425b15fc20c64da4341c1d89</td>\n",
       "      <td>a3dd97667c8f2bb47a7391c769e2e868</td>\n",
       "      <td>3</td>\n",
       "    </tr>\n",
       "    <tr>\n",
       "      <th>1</th>\n",
       "      <td>2022-02-28</td>\n",
       "      <td>delivered</td>\n",
       "      <td>796f3150-a8a7-40e8-b906-13b531de7bcf</td>\n",
       "      <td>44</td>\n",
       "      <td>False</td>\n",
       "      <td>177711</td>\n",
       "      <td>True</td>\n",
       "      <td>0</td>\n",
       "      <td>0</td>\n",
       "      <td>0</td>\n",
       "      <td>...</td>\n",
       "      <td>0</td>\n",
       "      <td>1</td>\n",
       "      <td>b602362c2a586c560131d97cf5b14075</td>\n",
       "      <td>195dc214249dab3c31906b4b9f83d503</td>\n",
       "      <td>b718adec73e04ce3ec720dd11a06a308</td>\n",
       "      <td>63a9f0ea7bb98050796b649e85481845</td>\n",
       "      <td>NaN</td>\n",
       "      <td>195dc214249dab3c31906b4b9f83d503</td>\n",
       "      <td>b602362c2a586c560131d97cf5b14075</td>\n",
       "      <td>3</td>\n",
       "    </tr>\n",
       "    <tr>\n",
       "      <th>2</th>\n",
       "      <td>2022-02-28</td>\n",
       "      <td>delivered</td>\n",
       "      <td>a48c27f7-d645-4b49-bc49-37302b406e1c</td>\n",
       "      <td>107</td>\n",
       "      <td>False</td>\n",
       "      <td>76776</td>\n",
       "      <td>True</td>\n",
       "      <td>0</td>\n",
       "      <td>0</td>\n",
       "      <td>23</td>\n",
       "      <td>...</td>\n",
       "      <td>0</td>\n",
       "      <td>1</td>\n",
       "      <td>44d7c109bf5552287fd73a30ded5d6d6</td>\n",
       "      <td>883df3cf6bc90d69afb61c2fe31be838</td>\n",
       "      <td>c951270e425b15fc20c64da4341c1d89</td>\n",
       "      <td>63a9f0ea7bb98050796b649e85481845</td>\n",
       "      <td>NaN</td>\n",
       "      <td>c951270e425b15fc20c64da4341c1d89</td>\n",
       "      <td>883df3cf6bc90d69afb61c2fe31be838</td>\n",
       "      <td>3</td>\n",
       "    </tr>\n",
       "    <tr>\n",
       "      <th>3</th>\n",
       "      <td>2022-02-28</td>\n",
       "      <td>delivered</td>\n",
       "      <td>a48c27f7-d645-4b49-bc49-37302b406e1c</td>\n",
       "      <td>107</td>\n",
       "      <td>False</td>\n",
       "      <td>76776</td>\n",
       "      <td>True</td>\n",
       "      <td>0</td>\n",
       "      <td>0</td>\n",
       "      <td>23</td>\n",
       "      <td>...</td>\n",
       "      <td>0</td>\n",
       "      <td>1</td>\n",
       "      <td>746da6d65d78980c617eb8ead13a74a4</td>\n",
       "      <td>bb04f5f7eeb7aa2ca785b724a1c16752</td>\n",
       "      <td>c951270e425b15fc20c64da4341c1d89</td>\n",
       "      <td>63a9f0ea7bb98050796b649e85481845</td>\n",
       "      <td>NaN</td>\n",
       "      <td>c951270e425b15fc20c64da4341c1d89</td>\n",
       "      <td>bb04f5f7eeb7aa2ca785b724a1c16752</td>\n",
       "      <td>3</td>\n",
       "    </tr>\n",
       "    <tr>\n",
       "      <th>4</th>\n",
       "      <td>2022-02-28</td>\n",
       "      <td>not_delivered</td>\n",
       "      <td>482b781f-a376-4978-a712-bf0ad5fd1d30</td>\n",
       "      <td>94</td>\n",
       "      <td>False</td>\n",
       "      <td>105692</td>\n",
       "      <td>True</td>\n",
       "      <td>27</td>\n",
       "      <td>0</td>\n",
       "      <td>0</td>\n",
       "      <td>...</td>\n",
       "      <td>0</td>\n",
       "      <td>1</td>\n",
       "      <td>867de31618ddaf86ccdc872f60203135</td>\n",
       "      <td>6b4bc42634c38300eb38251b1356f64e</td>\n",
       "      <td>5d7247c6609e95d4180a71551b9d8d59</td>\n",
       "      <td>92a54b358b4cf53cca4095e4697e1004</td>\n",
       "      <td>63a9f0ea7bb98050796b649e85481845</td>\n",
       "      <td>92a54b358b4cf53cca4095e4697e1004</td>\n",
       "      <td>5d7247c6609e95d4180a71551b9d8d59</td>\n",
       "      <td>4</td>\n",
       "    </tr>\n",
       "  </tbody>\n",
       "</table>\n",
       "<p>5 rows × 24 columns</p>\n",
       "</div>"
      ],
      "text/plain": [
       "   created_at         status                   guarant_letter_uuid  \\\n",
       "0  2022-02-28      delivered  7f2a9c90-1599-42a4-871d-b6cfc5349f24   \n",
       "1  2022-02-28      delivered  796f3150-a8a7-40e8-b906-13b531de7bcf   \n",
       "2  2022-02-28      delivered  a48c27f7-d645-4b49-bc49-37302b406e1c   \n",
       "3  2022-02-28      delivered  a48c27f7-d645-4b49-bc49-37302b406e1c   \n",
       "4  2022-02-28  not_delivered  482b781f-a376-4978-a712-bf0ad5fd1d30   \n",
       "\n",
       "   comment_len  is_paid_by_patient  patient_id  has_doctor  doctor_len  \\\n",
       "0           49               False      176587        True           0   \n",
       "1           44               False      177711        True           0   \n",
       "2          107               False       76776        True           0   \n",
       "3          107               False       76776        True           0   \n",
       "4           94               False      105692        True          27   \n",
       "\n",
       "   diagnosis_len  diagnosis_clarification_len  ...  service_status  \\\n",
       "0              0                            0  ...               0   \n",
       "1              0                            0  ...               0   \n",
       "2              0                           23  ...               0   \n",
       "3              0                           23  ...               0   \n",
       "4              0                            0  ...               0   \n",
       "\n",
       "  service_quantity                      service_code  \\\n",
       "0                1  0fc1c709c57b84c756e2347fc5dda380   \n",
       "1                1  b602362c2a586c560131d97cf5b14075   \n",
       "2                1  44d7c109bf5552287fd73a30ded5d6d6   \n",
       "3                1  746da6d65d78980c617eb8ead13a74a4   \n",
       "4                1  867de31618ddaf86ccdc872f60203135   \n",
       "\n",
       "                        folk_1_code                       folk_2_code  \\\n",
       "0  a3dd97667c8f2bb47a7391c769e2e868  c951270e425b15fc20c64da4341c1d89   \n",
       "1  195dc214249dab3c31906b4b9f83d503  b718adec73e04ce3ec720dd11a06a308   \n",
       "2  883df3cf6bc90d69afb61c2fe31be838  c951270e425b15fc20c64da4341c1d89   \n",
       "3  bb04f5f7eeb7aa2ca785b724a1c16752  c951270e425b15fc20c64da4341c1d89   \n",
       "4  6b4bc42634c38300eb38251b1356f64e  5d7247c6609e95d4180a71551b9d8d59   \n",
       "\n",
       "                        folk_3_code                       folk_4_code  \\\n",
       "0  63a9f0ea7bb98050796b649e85481845                               NaN   \n",
       "1  63a9f0ea7bb98050796b649e85481845                               NaN   \n",
       "2  63a9f0ea7bb98050796b649e85481845                               NaN   \n",
       "3  63a9f0ea7bb98050796b649e85481845                               NaN   \n",
       "4  92a54b358b4cf53cca4095e4697e1004  63a9f0ea7bb98050796b649e85481845   \n",
       "\n",
       "      service_level_3_category_hash     service_level_2_category_hash  \\\n",
       "0  c951270e425b15fc20c64da4341c1d89  a3dd97667c8f2bb47a7391c769e2e868   \n",
       "1  195dc214249dab3c31906b4b9f83d503  b602362c2a586c560131d97cf5b14075   \n",
       "2  c951270e425b15fc20c64da4341c1d89  883df3cf6bc90d69afb61c2fe31be838   \n",
       "3  c951270e425b15fc20c64da4341c1d89  bb04f5f7eeb7aa2ca785b724a1c16752   \n",
       "4  92a54b358b4cf53cca4095e4697e1004  5d7247c6609e95d4180a71551b9d8d59   \n",
       "\n",
       "  service_level  \n",
       "0             3  \n",
       "1             3  \n",
       "2             3  \n",
       "3             3  \n",
       "4             4  \n",
       "\n",
       "[5 rows x 24 columns]"
      ]
     },
     "execution_count": 58,
     "metadata": {},
     "output_type": "execute_result"
    }
   ],
   "source": [
    "df.head()"
   ]
  },
  {
   "cell_type": "code",
   "execution_count": 59,
   "metadata": {
    "colab": {
     "base_uri": "https://localhost:8080/",
     "height": 206
    },
    "id": "PFElS7MuoyYe",
    "outputId": "b972f16d-a206-4204-c5f7-9e83b00dfb27"
   },
   "outputs": [
    {
     "data": {
      "text/html": [
       "<div>\n",
       "<style scoped>\n",
       "    .dataframe tbody tr th:only-of-type {\n",
       "        vertical-align: middle;\n",
       "    }\n",
       "\n",
       "    .dataframe tbody tr th {\n",
       "        vertical-align: top;\n",
       "    }\n",
       "\n",
       "    .dataframe thead th {\n",
       "        text-align: right;\n",
       "    }\n",
       "</style>\n",
       "<table border=\"1\" class=\"dataframe\">\n",
       "  <thead>\n",
       "    <tr style=\"text-align: right;\">\n",
       "      <th></th>\n",
       "      <th>patient_id</th>\n",
       "      <th>дата убытка</th>\n",
       "      <th>loss</th>\n",
       "    </tr>\n",
       "  </thead>\n",
       "  <tbody>\n",
       "    <tr>\n",
       "      <th>0</th>\n",
       "      <td>70772</td>\n",
       "      <td>2021-12-14</td>\n",
       "      <td>4.743</td>\n",
       "    </tr>\n",
       "    <tr>\n",
       "      <th>1</th>\n",
       "      <td>48418</td>\n",
       "      <td>2021-11-22</td>\n",
       "      <td>3.200</td>\n",
       "    </tr>\n",
       "    <tr>\n",
       "      <th>2</th>\n",
       "      <td>147869</td>\n",
       "      <td>2021-09-11</td>\n",
       "      <td>1.350</td>\n",
       "    </tr>\n",
       "    <tr>\n",
       "      <th>3</th>\n",
       "      <td>109626</td>\n",
       "      <td>2021-04-29</td>\n",
       "      <td>6.520</td>\n",
       "    </tr>\n",
       "    <tr>\n",
       "      <th>4</th>\n",
       "      <td>47870</td>\n",
       "      <td>2021-10-04</td>\n",
       "      <td>1.322</td>\n",
       "    </tr>\n",
       "  </tbody>\n",
       "</table>\n",
       "</div>"
      ],
      "text/plain": [
       "   patient_id дата убытка   loss\n",
       "0       70772  2021-12-14  4.743\n",
       "1       48418  2021-11-22  3.200\n",
       "2      147869  2021-09-11  1.350\n",
       "3      109626  2021-04-29  6.520\n",
       "4       47870  2021-10-04  1.322"
      ]
     },
     "execution_count": 59,
     "metadata": {},
     "output_type": "execute_result"
    }
   ],
   "source": [
    "target['дата убытка'] = target['дата убытка'].dt.date\n",
    "target.head()"
   ]
  },
  {
   "cell_type": "markdown",
   "metadata": {},
   "source": [
    "Соединим данные с таргетом: "
   ]
  },
  {
   "cell_type": "code",
   "execution_count": 60,
   "metadata": {
    "colab": {
     "base_uri": "https://localhost:8080/",
     "height": 190
    },
    "id": "ZC432lGFoYzx",
    "outputId": "de46d345-bac9-4c8c-b69b-f0b023fe5c24"
   },
   "outputs": [
    {
     "data": {
      "text/html": [
       "<div>\n",
       "<style scoped>\n",
       "    .dataframe tbody tr th:only-of-type {\n",
       "        vertical-align: middle;\n",
       "    }\n",
       "\n",
       "    .dataframe tbody tr th {\n",
       "        vertical-align: top;\n",
       "    }\n",
       "\n",
       "    .dataframe thead th {\n",
       "        text-align: right;\n",
       "    }\n",
       "</style>\n",
       "<table border=\"1\" class=\"dataframe\">\n",
       "  <thead>\n",
       "    <tr style=\"text-align: right;\">\n",
       "      <th></th>\n",
       "      <th>created_at</th>\n",
       "      <th>status</th>\n",
       "      <th>guarant_letter_uuid</th>\n",
       "      <th>comment_len</th>\n",
       "      <th>is_paid_by_patient</th>\n",
       "      <th>patient_id</th>\n",
       "      <th>has_doctor</th>\n",
       "      <th>doctor_len</th>\n",
       "      <th>diagnosis_len</th>\n",
       "      <th>diagnosis_clarification_len</th>\n",
       "      <th>...</th>\n",
       "      <th>service_code</th>\n",
       "      <th>folk_1_code</th>\n",
       "      <th>folk_2_code</th>\n",
       "      <th>folk_3_code</th>\n",
       "      <th>folk_4_code</th>\n",
       "      <th>service_level_3_category_hash</th>\n",
       "      <th>service_level_2_category_hash</th>\n",
       "      <th>service_level</th>\n",
       "      <th>дата убытка</th>\n",
       "      <th>loss</th>\n",
       "    </tr>\n",
       "  </thead>\n",
       "  <tbody>\n",
       "    <tr>\n",
       "      <th>0</th>\n",
       "      <td>2022-02-28</td>\n",
       "      <td>delivered</td>\n",
       "      <td>7f2a9c90-1599-42a4-871d-b6cfc5349f24</td>\n",
       "      <td>49</td>\n",
       "      <td>False</td>\n",
       "      <td>176587</td>\n",
       "      <td>True</td>\n",
       "      <td>0</td>\n",
       "      <td>0</td>\n",
       "      <td>0</td>\n",
       "      <td>...</td>\n",
       "      <td>0fc1c709c57b84c756e2347fc5dda380</td>\n",
       "      <td>a3dd97667c8f2bb47a7391c769e2e868</td>\n",
       "      <td>c951270e425b15fc20c64da4341c1d89</td>\n",
       "      <td>63a9f0ea7bb98050796b649e85481845</td>\n",
       "      <td>NaN</td>\n",
       "      <td>c951270e425b15fc20c64da4341c1d89</td>\n",
       "      <td>a3dd97667c8f2bb47a7391c769e2e868</td>\n",
       "      <td>3</td>\n",
       "      <td>2022-02-28</td>\n",
       "      <td>5.6800</td>\n",
       "    </tr>\n",
       "    <tr>\n",
       "      <th>1</th>\n",
       "      <td>2022-02-28</td>\n",
       "      <td>delivered</td>\n",
       "      <td>fd747e32-0ee2-4418-84ba-e78216119ed5</td>\n",
       "      <td>301</td>\n",
       "      <td>False</td>\n",
       "      <td>85675</td>\n",
       "      <td>True</td>\n",
       "      <td>0</td>\n",
       "      <td>21</td>\n",
       "      <td>0</td>\n",
       "      <td>...</td>\n",
       "      <td>c1babc7cb238ab308da4b0a23fd604b2</td>\n",
       "      <td>NaN</td>\n",
       "      <td>63a9f0ea7bb98050796b649e85481845</td>\n",
       "      <td>NaN</td>\n",
       "      <td>NaN</td>\n",
       "      <td>b95c3d50fa47443166f7d356eaed8006</td>\n",
       "      <td>c1babc7cb238ab308da4b0a23fd604b2</td>\n",
       "      <td>2</td>\n",
       "      <td>2022-02-28</td>\n",
       "      <td>8.6165</td>\n",
       "    </tr>\n",
       "    <tr>\n",
       "      <th>2</th>\n",
       "      <td>2022-02-28</td>\n",
       "      <td>delivered</td>\n",
       "      <td>56344847-915f-4c42-adfe-18ac503c77cb</td>\n",
       "      <td>172</td>\n",
       "      <td>False</td>\n",
       "      <td>85675</td>\n",
       "      <td>True</td>\n",
       "      <td>0</td>\n",
       "      <td>46</td>\n",
       "      <td>0</td>\n",
       "      <td>...</td>\n",
       "      <td>993478970b98d4a20bf91e64aad312bd</td>\n",
       "      <td>b95c3d50fa47443166f7d356eaed8006</td>\n",
       "      <td>NaN</td>\n",
       "      <td>63a9f0ea7bb98050796b649e85481845</td>\n",
       "      <td>NaN</td>\n",
       "      <td>b95c3d50fa47443166f7d356eaed8006</td>\n",
       "      <td>993478970b98d4a20bf91e64aad312bd</td>\n",
       "      <td>3</td>\n",
       "      <td>2022-02-28</td>\n",
       "      <td>8.6165</td>\n",
       "    </tr>\n",
       "    <tr>\n",
       "      <th>3</th>\n",
       "      <td>2022-02-28</td>\n",
       "      <td>delivered</td>\n",
       "      <td>f42bde97-07a1-4235-93e9-7abfed0f398f</td>\n",
       "      <td>77</td>\n",
       "      <td>False</td>\n",
       "      <td>192505</td>\n",
       "      <td>True</td>\n",
       "      <td>0</td>\n",
       "      <td>0</td>\n",
       "      <td>0</td>\n",
       "      <td>...</td>\n",
       "      <td>431d09a75b317feddeffee19652edf60</td>\n",
       "      <td>f55e86c273940887727c2620ec18190f</td>\n",
       "      <td>c951270e425b15fc20c64da4341c1d89</td>\n",
       "      <td>63a9f0ea7bb98050796b649e85481845</td>\n",
       "      <td>NaN</td>\n",
       "      <td>c951270e425b15fc20c64da4341c1d89</td>\n",
       "      <td>f55e86c273940887727c2620ec18190f</td>\n",
       "      <td>3</td>\n",
       "      <td>2022-02-28</td>\n",
       "      <td>2.6000</td>\n",
       "    </tr>\n",
       "    <tr>\n",
       "      <th>4</th>\n",
       "      <td>2022-02-28</td>\n",
       "      <td>not_delivered</td>\n",
       "      <td>1c4de961-c862-47cc-aaca-30876cd55134</td>\n",
       "      <td>59</td>\n",
       "      <td>False</td>\n",
       "      <td>159670</td>\n",
       "      <td>True</td>\n",
       "      <td>0</td>\n",
       "      <td>0</td>\n",
       "      <td>0</td>\n",
       "      <td>...</td>\n",
       "      <td>0896fe692fbd93c5b34112bb28bf6a85</td>\n",
       "      <td>a8fa6b553b655657f943cb8fd85859d1</td>\n",
       "      <td>b718adec73e04ce3ec720dd11a06a308</td>\n",
       "      <td>63a9f0ea7bb98050796b649e85481845</td>\n",
       "      <td>NaN</td>\n",
       "      <td>a8fa6b553b655657f943cb8fd85859d1</td>\n",
       "      <td>0896fe692fbd93c5b34112bb28bf6a85</td>\n",
       "      <td>3</td>\n",
       "      <td>2022-02-28</td>\n",
       "      <td>2.6672</td>\n",
       "    </tr>\n",
       "    <tr>\n",
       "      <th>...</th>\n",
       "      <td>...</td>\n",
       "      <td>...</td>\n",
       "      <td>...</td>\n",
       "      <td>...</td>\n",
       "      <td>...</td>\n",
       "      <td>...</td>\n",
       "      <td>...</td>\n",
       "      <td>...</td>\n",
       "      <td>...</td>\n",
       "      <td>...</td>\n",
       "      <td>...</td>\n",
       "      <td>...</td>\n",
       "      <td>...</td>\n",
       "      <td>...</td>\n",
       "      <td>...</td>\n",
       "      <td>...</td>\n",
       "      <td>...</td>\n",
       "      <td>...</td>\n",
       "      <td>...</td>\n",
       "      <td>...</td>\n",
       "      <td>...</td>\n",
       "    </tr>\n",
       "    <tr>\n",
       "      <th>199803</th>\n",
       "      <td>2020-07-20</td>\n",
       "      <td>created</td>\n",
       "      <td>b89b13c3-89cd-4a48-a787-17b4501553cb</td>\n",
       "      <td>103</td>\n",
       "      <td>False</td>\n",
       "      <td>28160</td>\n",
       "      <td>True</td>\n",
       "      <td>0</td>\n",
       "      <td>101</td>\n",
       "      <td>0</td>\n",
       "      <td>...</td>\n",
       "      <td>79b4e4c38319f3a8c43261257f101c85</td>\n",
       "      <td>92a54b358b4cf53cca4095e4697e1004</td>\n",
       "      <td>63a9f0ea7bb98050796b649e85481845</td>\n",
       "      <td>NaN</td>\n",
       "      <td>NaN</td>\n",
       "      <td>92a54b358b4cf53cca4095e4697e1004</td>\n",
       "      <td>79b4e4c38319f3a8c43261257f101c85</td>\n",
       "      <td>2</td>\n",
       "      <td>2020-07-20</td>\n",
       "      <td>2.7500</td>\n",
       "    </tr>\n",
       "    <tr>\n",
       "      <th>199804</th>\n",
       "      <td>2020-07-16</td>\n",
       "      <td>not_delivered</td>\n",
       "      <td>4a131a68-2058-4569-aed0-ac60724533d2</td>\n",
       "      <td>4</td>\n",
       "      <td>False</td>\n",
       "      <td>30470</td>\n",
       "      <td>True</td>\n",
       "      <td>0</td>\n",
       "      <td>14</td>\n",
       "      <td>0</td>\n",
       "      <td>...</td>\n",
       "      <td>3539ce38f4da0e16c349d2aa7a5c3e22</td>\n",
       "      <td>bac953e88f6d79514b0b6fc42eb6f3b7</td>\n",
       "      <td>b718adec73e04ce3ec720dd11a06a308</td>\n",
       "      <td>63a9f0ea7bb98050796b649e85481845</td>\n",
       "      <td>NaN</td>\n",
       "      <td>bac953e88f6d79514b0b6fc42eb6f3b7</td>\n",
       "      <td>3539ce38f4da0e16c349d2aa7a5c3e22</td>\n",
       "      <td>3</td>\n",
       "      <td>2020-07-16</td>\n",
       "      <td>0.6560</td>\n",
       "    </tr>\n",
       "    <tr>\n",
       "      <th>199805</th>\n",
       "      <td>2020-07-15</td>\n",
       "      <td>delivered</td>\n",
       "      <td>3a565430-2614-4afb-922d-842994ddc5d3</td>\n",
       "      <td>129</td>\n",
       "      <td>False</td>\n",
       "      <td>33816</td>\n",
       "      <td>True</td>\n",
       "      <td>0</td>\n",
       "      <td>0</td>\n",
       "      <td>0</td>\n",
       "      <td>...</td>\n",
       "      <td>34e869b9975f3c2cebd4e63e0b4a8c87</td>\n",
       "      <td>32f0b6e1268bb0caa3463c2a4653e5d5</td>\n",
       "      <td>bac953e88f6d79514b0b6fc42eb6f3b7</td>\n",
       "      <td>b718adec73e04ce3ec720dd11a06a308</td>\n",
       "      <td>63a9f0ea7bb98050796b649e85481845</td>\n",
       "      <td>112c61a276d0376f2f6b25dd3a337b1d</td>\n",
       "      <td>32f0b6e1268bb0caa3463c2a4653e5d5</td>\n",
       "      <td>4</td>\n",
       "      <td>2020-07-15</td>\n",
       "      <td>3.9600</td>\n",
       "    </tr>\n",
       "    <tr>\n",
       "      <th>199806</th>\n",
       "      <td>2020-07-12</td>\n",
       "      <td>delivered</td>\n",
       "      <td>6a725de0-c54e-4fdb-8f44-f6cbfd434e59</td>\n",
       "      <td>133</td>\n",
       "      <td>False</td>\n",
       "      <td>34412</td>\n",
       "      <td>True</td>\n",
       "      <td>0</td>\n",
       "      <td>16</td>\n",
       "      <td>0</td>\n",
       "      <td>...</td>\n",
       "      <td>c1babc7cb238ab308da4b0a23fd604b2</td>\n",
       "      <td>NaN</td>\n",
       "      <td>63a9f0ea7bb98050796b649e85481845</td>\n",
       "      <td>NaN</td>\n",
       "      <td>NaN</td>\n",
       "      <td>b95c3d50fa47443166f7d356eaed8006</td>\n",
       "      <td>c1babc7cb238ab308da4b0a23fd604b2</td>\n",
       "      <td>2</td>\n",
       "      <td>2020-07-12</td>\n",
       "      <td>9.0900</td>\n",
       "    </tr>\n",
       "    <tr>\n",
       "      <th>199807</th>\n",
       "      <td>2020-07-08</td>\n",
       "      <td>delivered</td>\n",
       "      <td>13a04362-5f79-4ab3-8806-25e461395860</td>\n",
       "      <td>126</td>\n",
       "      <td>False</td>\n",
       "      <td>47421</td>\n",
       "      <td>True</td>\n",
       "      <td>0</td>\n",
       "      <td>40</td>\n",
       "      <td>0</td>\n",
       "      <td>...</td>\n",
       "      <td>4baee84af7a92177c9064ddc2fc010ce</td>\n",
       "      <td>55a055409207a12d5937b243fd508bde</td>\n",
       "      <td>63a9f0ea7bb98050796b649e85481845</td>\n",
       "      <td>NaN</td>\n",
       "      <td>NaN</td>\n",
       "      <td>4baee84af7a92177c9064ddc2fc010ce</td>\n",
       "      <td>4baee84af7a92177c9064ddc2fc010ce</td>\n",
       "      <td>2</td>\n",
       "      <td>2020-07-08</td>\n",
       "      <td>4.8400</td>\n",
       "    </tr>\n",
       "  </tbody>\n",
       "</table>\n",
       "<p>199808 rows × 26 columns</p>\n",
       "</div>"
      ],
      "text/plain": [
       "        created_at         status                   guarant_letter_uuid  \\\n",
       "0       2022-02-28      delivered  7f2a9c90-1599-42a4-871d-b6cfc5349f24   \n",
       "1       2022-02-28      delivered  fd747e32-0ee2-4418-84ba-e78216119ed5   \n",
       "2       2022-02-28      delivered  56344847-915f-4c42-adfe-18ac503c77cb   \n",
       "3       2022-02-28      delivered  f42bde97-07a1-4235-93e9-7abfed0f398f   \n",
       "4       2022-02-28  not_delivered  1c4de961-c862-47cc-aaca-30876cd55134   \n",
       "...            ...            ...                                   ...   \n",
       "199803  2020-07-20        created  b89b13c3-89cd-4a48-a787-17b4501553cb   \n",
       "199804  2020-07-16  not_delivered  4a131a68-2058-4569-aed0-ac60724533d2   \n",
       "199805  2020-07-15      delivered  3a565430-2614-4afb-922d-842994ddc5d3   \n",
       "199806  2020-07-12      delivered  6a725de0-c54e-4fdb-8f44-f6cbfd434e59   \n",
       "199807  2020-07-08      delivered  13a04362-5f79-4ab3-8806-25e461395860   \n",
       "\n",
       "        comment_len  is_paid_by_patient  patient_id  has_doctor  doctor_len  \\\n",
       "0                49               False      176587        True           0   \n",
       "1               301               False       85675        True           0   \n",
       "2               172               False       85675        True           0   \n",
       "3                77               False      192505        True           0   \n",
       "4                59               False      159670        True           0   \n",
       "...             ...                 ...         ...         ...         ...   \n",
       "199803          103               False       28160        True           0   \n",
       "199804            4               False       30470        True           0   \n",
       "199805          129               False       33816        True           0   \n",
       "199806          133               False       34412        True           0   \n",
       "199807          126               False       47421        True           0   \n",
       "\n",
       "        diagnosis_len  diagnosis_clarification_len  ...  \\\n",
       "0                   0                            0  ...   \n",
       "1                  21                            0  ...   \n",
       "2                  46                            0  ...   \n",
       "3                   0                            0  ...   \n",
       "4                   0                            0  ...   \n",
       "...               ...                          ...  ...   \n",
       "199803            101                            0  ...   \n",
       "199804             14                            0  ...   \n",
       "199805              0                            0  ...   \n",
       "199806             16                            0  ...   \n",
       "199807             40                            0  ...   \n",
       "\n",
       "                            service_code                       folk_1_code  \\\n",
       "0       0fc1c709c57b84c756e2347fc5dda380  a3dd97667c8f2bb47a7391c769e2e868   \n",
       "1       c1babc7cb238ab308da4b0a23fd604b2                               NaN   \n",
       "2       993478970b98d4a20bf91e64aad312bd  b95c3d50fa47443166f7d356eaed8006   \n",
       "3       431d09a75b317feddeffee19652edf60  f55e86c273940887727c2620ec18190f   \n",
       "4       0896fe692fbd93c5b34112bb28bf6a85  a8fa6b553b655657f943cb8fd85859d1   \n",
       "...                                  ...                               ...   \n",
       "199803  79b4e4c38319f3a8c43261257f101c85  92a54b358b4cf53cca4095e4697e1004   \n",
       "199804  3539ce38f4da0e16c349d2aa7a5c3e22  bac953e88f6d79514b0b6fc42eb6f3b7   \n",
       "199805  34e869b9975f3c2cebd4e63e0b4a8c87  32f0b6e1268bb0caa3463c2a4653e5d5   \n",
       "199806  c1babc7cb238ab308da4b0a23fd604b2                               NaN   \n",
       "199807  4baee84af7a92177c9064ddc2fc010ce  55a055409207a12d5937b243fd508bde   \n",
       "\n",
       "                             folk_2_code                       folk_3_code  \\\n",
       "0       c951270e425b15fc20c64da4341c1d89  63a9f0ea7bb98050796b649e85481845   \n",
       "1       63a9f0ea7bb98050796b649e85481845                               NaN   \n",
       "2                                    NaN  63a9f0ea7bb98050796b649e85481845   \n",
       "3       c951270e425b15fc20c64da4341c1d89  63a9f0ea7bb98050796b649e85481845   \n",
       "4       b718adec73e04ce3ec720dd11a06a308  63a9f0ea7bb98050796b649e85481845   \n",
       "...                                  ...                               ...   \n",
       "199803  63a9f0ea7bb98050796b649e85481845                               NaN   \n",
       "199804  b718adec73e04ce3ec720dd11a06a308  63a9f0ea7bb98050796b649e85481845   \n",
       "199805  bac953e88f6d79514b0b6fc42eb6f3b7  b718adec73e04ce3ec720dd11a06a308   \n",
       "199806  63a9f0ea7bb98050796b649e85481845                               NaN   \n",
       "199807  63a9f0ea7bb98050796b649e85481845                               NaN   \n",
       "\n",
       "                             folk_4_code     service_level_3_category_hash  \\\n",
       "0                                    NaN  c951270e425b15fc20c64da4341c1d89   \n",
       "1                                    NaN  b95c3d50fa47443166f7d356eaed8006   \n",
       "2                                    NaN  b95c3d50fa47443166f7d356eaed8006   \n",
       "3                                    NaN  c951270e425b15fc20c64da4341c1d89   \n",
       "4                                    NaN  a8fa6b553b655657f943cb8fd85859d1   \n",
       "...                                  ...                               ...   \n",
       "199803                               NaN  92a54b358b4cf53cca4095e4697e1004   \n",
       "199804                               NaN  bac953e88f6d79514b0b6fc42eb6f3b7   \n",
       "199805  63a9f0ea7bb98050796b649e85481845  112c61a276d0376f2f6b25dd3a337b1d   \n",
       "199806                               NaN  b95c3d50fa47443166f7d356eaed8006   \n",
       "199807                               NaN  4baee84af7a92177c9064ddc2fc010ce   \n",
       "\n",
       "           service_level_2_category_hash service_level дата убытка    loss  \n",
       "0       a3dd97667c8f2bb47a7391c769e2e868             3  2022-02-28  5.6800  \n",
       "1       c1babc7cb238ab308da4b0a23fd604b2             2  2022-02-28  8.6165  \n",
       "2       993478970b98d4a20bf91e64aad312bd             3  2022-02-28  8.6165  \n",
       "3       f55e86c273940887727c2620ec18190f             3  2022-02-28  2.6000  \n",
       "4       0896fe692fbd93c5b34112bb28bf6a85             3  2022-02-28  2.6672  \n",
       "...                                  ...           ...         ...     ...  \n",
       "199803  79b4e4c38319f3a8c43261257f101c85             2  2020-07-20  2.7500  \n",
       "199804  3539ce38f4da0e16c349d2aa7a5c3e22             3  2020-07-16  0.6560  \n",
       "199805  32f0b6e1268bb0caa3463c2a4653e5d5             4  2020-07-15  3.9600  \n",
       "199806  c1babc7cb238ab308da4b0a23fd604b2             2  2020-07-12  9.0900  \n",
       "199807  4baee84af7a92177c9064ddc2fc010ce             2  2020-07-08  4.8400  \n",
       "\n",
       "[199808 rows x 26 columns]"
      ]
     },
     "execution_count": 60,
     "metadata": {},
     "output_type": "execute_result"
    }
   ],
   "source": [
    "data = df.merge(target, left_on=['created_at', 'patient_id'], right_on=['дата убытка', 'patient_id'], how='inner')\n",
    "data"
   ]
  },
  {
   "cell_type": "code",
   "execution_count": 61,
   "metadata": {},
   "outputs": [
    {
     "data": {
      "text/plain": [
       "(547868, 199808)"
      ]
     },
     "execution_count": 61,
     "metadata": {},
     "output_type": "execute_result"
    }
   ],
   "source": [
    "len(df), len(data)"
   ]
  },
  {
   "cell_type": "code",
   "execution_count": 62,
   "metadata": {},
   "outputs": [],
   "source": [
    "data.to_csv('merged_data_advb.csv')"
   ]
  },
  {
   "cell_type": "markdown",
   "metadata": {},
   "source": [
    "Как видно, много записей не имеет таргета вообще, их можно исключить. "
   ]
  },
  {
   "cell_type": "markdown",
   "metadata": {},
   "source": [
    "Пока что при варианте, когда человек был в один день у нескольких докторов, мы на каждую запись делаем loss за весь день, но лучше сделать среднее. "
   ]
  },
  {
   "cell_type": "markdown",
   "metadata": {},
   "source": [
    "Посмотрим на корреляцию и статистику для признаков: "
   ]
  },
  {
   "cell_type": "code",
   "execution_count": 67,
   "metadata": {},
   "outputs": [
    {
     "data": {
      "text/html": [
       "<div>\n",
       "<style scoped>\n",
       "    .dataframe tbody tr th:only-of-type {\n",
       "        vertical-align: middle;\n",
       "    }\n",
       "\n",
       "    .dataframe tbody tr th {\n",
       "        vertical-align: top;\n",
       "    }\n",
       "\n",
       "    .dataframe thead th {\n",
       "        text-align: right;\n",
       "    }\n",
       "</style>\n",
       "<table border=\"1\" class=\"dataframe\">\n",
       "  <thead>\n",
       "    <tr style=\"text-align: right;\">\n",
       "      <th></th>\n",
       "      <th>comment_len</th>\n",
       "      <th>patient_id</th>\n",
       "      <th>doctor_len</th>\n",
       "      <th>diagnosis_len</th>\n",
       "      <th>diagnosis_clarification_len</th>\n",
       "      <th>standartized_diagnosis_len</th>\n",
       "      <th>service_status</th>\n",
       "      <th>service_quantity</th>\n",
       "      <th>service_level</th>\n",
       "      <th>loss</th>\n",
       "    </tr>\n",
       "  </thead>\n",
       "  <tbody>\n",
       "    <tr>\n",
       "      <th>count</th>\n",
       "      <td>199808.000000</td>\n",
       "      <td>199808.000000</td>\n",
       "      <td>199808.000000</td>\n",
       "      <td>199808.000000</td>\n",
       "      <td>199808.000000</td>\n",
       "      <td>58044.000000</td>\n",
       "      <td>199808.000000</td>\n",
       "      <td>199808.000000</td>\n",
       "      <td>199808.000000</td>\n",
       "      <td>199808.000000</td>\n",
       "    </tr>\n",
       "    <tr>\n",
       "      <th>mean</th>\n",
       "      <td>240.032186</td>\n",
       "      <td>78656.886987</td>\n",
       "      <td>1.243679</td>\n",
       "      <td>63.874995</td>\n",
       "      <td>4.487888</td>\n",
       "      <td>34.044828</td>\n",
       "      <td>0.123474</td>\n",
       "      <td>1.446389</td>\n",
       "      <td>3.369089</td>\n",
       "      <td>5.749190</td>\n",
       "    </tr>\n",
       "    <tr>\n",
       "      <th>std</th>\n",
       "      <td>226.373761</td>\n",
       "      <td>39238.520334</td>\n",
       "      <td>5.103025</td>\n",
       "      <td>90.379259</td>\n",
       "      <td>29.754831</td>\n",
       "      <td>20.944403</td>\n",
       "      <td>0.348972</td>\n",
       "      <td>1.719730</td>\n",
       "      <td>0.657789</td>\n",
       "      <td>5.939134</td>\n",
       "    </tr>\n",
       "    <tr>\n",
       "      <th>min</th>\n",
       "      <td>0.000000</td>\n",
       "      <td>1129.000000</td>\n",
       "      <td>0.000000</td>\n",
       "      <td>0.000000</td>\n",
       "      <td>0.000000</td>\n",
       "      <td>4.000000</td>\n",
       "      <td>0.000000</td>\n",
       "      <td>0.000000</td>\n",
       "      <td>1.000000</td>\n",
       "      <td>0.100000</td>\n",
       "    </tr>\n",
       "    <tr>\n",
       "      <th>25%</th>\n",
       "      <td>87.000000</td>\n",
       "      <td>51585.000000</td>\n",
       "      <td>0.000000</td>\n",
       "      <td>0.000000</td>\n",
       "      <td>0.000000</td>\n",
       "      <td>21.000000</td>\n",
       "      <td>0.000000</td>\n",
       "      <td>1.000000</td>\n",
       "      <td>3.000000</td>\n",
       "      <td>2.400000</td>\n",
       "    </tr>\n",
       "    <tr>\n",
       "      <th>50%</th>\n",
       "      <td>177.000000</td>\n",
       "      <td>74739.000000</td>\n",
       "      <td>0.000000</td>\n",
       "      <td>40.000000</td>\n",
       "      <td>0.000000</td>\n",
       "      <td>30.000000</td>\n",
       "      <td>0.000000</td>\n",
       "      <td>1.000000</td>\n",
       "      <td>3.000000</td>\n",
       "      <td>4.000000</td>\n",
       "    </tr>\n",
       "    <tr>\n",
       "      <th>75%</th>\n",
       "      <td>335.000000</td>\n",
       "      <td>100790.000000</td>\n",
       "      <td>0.000000</td>\n",
       "      <td>93.000000</td>\n",
       "      <td>0.000000</td>\n",
       "      <td>40.000000</td>\n",
       "      <td>0.000000</td>\n",
       "      <td>1.000000</td>\n",
       "      <td>4.000000</td>\n",
       "      <td>7.104300</td>\n",
       "    </tr>\n",
       "    <tr>\n",
       "      <th>max</th>\n",
       "      <td>8442.000000</td>\n",
       "      <td>203973.000000</td>\n",
       "      <td>85.000000</td>\n",
       "      <td>2942.000000</td>\n",
       "      <td>1109.000000</td>\n",
       "      <td>178.000000</td>\n",
       "      <td>3.000000</td>\n",
       "      <td>78.000000</td>\n",
       "      <td>6.000000</td>\n",
       "      <td>206.826100</td>\n",
       "    </tr>\n",
       "  </tbody>\n",
       "</table>\n",
       "</div>"
      ],
      "text/plain": [
       "         comment_len     patient_id     doctor_len  diagnosis_len  \\\n",
       "count  199808.000000  199808.000000  199808.000000  199808.000000   \n",
       "mean      240.032186   78656.886987       1.243679      63.874995   \n",
       "std       226.373761   39238.520334       5.103025      90.379259   \n",
       "min         0.000000    1129.000000       0.000000       0.000000   \n",
       "25%        87.000000   51585.000000       0.000000       0.000000   \n",
       "50%       177.000000   74739.000000       0.000000      40.000000   \n",
       "75%       335.000000  100790.000000       0.000000      93.000000   \n",
       "max      8442.000000  203973.000000      85.000000    2942.000000   \n",
       "\n",
       "       diagnosis_clarification_len  standartized_diagnosis_len  \\\n",
       "count                199808.000000                58044.000000   \n",
       "mean                      4.487888                   34.044828   \n",
       "std                      29.754831                   20.944403   \n",
       "min                       0.000000                    4.000000   \n",
       "25%                       0.000000                   21.000000   \n",
       "50%                       0.000000                   30.000000   \n",
       "75%                       0.000000                   40.000000   \n",
       "max                    1109.000000                  178.000000   \n",
       "\n",
       "       service_status  service_quantity  service_level           loss  \n",
       "count   199808.000000     199808.000000  199808.000000  199808.000000  \n",
       "mean         0.123474          1.446389       3.369089       5.749190  \n",
       "std          0.348972          1.719730       0.657789       5.939134  \n",
       "min          0.000000          0.000000       1.000000       0.100000  \n",
       "25%          0.000000          1.000000       3.000000       2.400000  \n",
       "50%          0.000000          1.000000       3.000000       4.000000  \n",
       "75%          0.000000          1.000000       4.000000       7.104300  \n",
       "max          3.000000         78.000000       6.000000     206.826100  "
      ]
     },
     "execution_count": 67,
     "metadata": {},
     "output_type": "execute_result"
    }
   ],
   "source": [
    "data.describe()"
   ]
  },
  {
   "cell_type": "code",
   "execution_count": 68,
   "metadata": {},
   "outputs": [
    {
     "data": {
      "image/png": "[encoded data removed]",
      "text/plain": [
       "<Figure size 720x720 with 2 Axes>"
      ]
     },
     "metadata": {
      "needs_background": "light"
     },
     "output_type": "display_data"
    }
   ],
   "source": [
    "import numpy as np\n",
    "import seaborn as sns\n",
    "import matplotlib.pyplot as mp\n",
    "\n",
    "mp.figure(figsize = (10,10))\n",
    "dataplot = sns.heatmap(data.corr(), cmap=\"YlGnBu\", annot=True)\n",
    "mp.show()"
   ]
  },
  {
   "cell_type": "markdown",
   "metadata": {},
   "source": [
    "Признаки практически не коррелируют с таргетом. Посмотрим распределения признаков и таргета:"
   ]
  },
  {
   "cell_type": "code",
   "execution_count": 69,
   "metadata": {},
   "outputs": [
    {
     "data": {
      "text/plain": [
       "created_at                              0\n",
       "status                                  0\n",
       "guarant_letter_uuid                     0\n",
       "comment_len                             0\n",
       "is_paid_by_patient                      0\n",
       "patient_id                              0\n",
       "has_doctor                              0\n",
       "doctor_len                              0\n",
       "diagnosis_len                           0\n",
       "diagnosis_clarification_len             0\n",
       "standartized_diagnosis_len         141764\n",
       "diagnosis_uuid                     141764\n",
       "diagnosis_category_level_3_hash    141764\n",
       "diagnosis_category_level_1_hash    141764\n",
       "service_status                          0\n",
       "service_quantity                        0\n",
       "service_code                         1121\n",
       "folk_1_code                           457\n",
       "folk_2_code                          1400\n",
       "folk_3_code                         10793\n",
       "folk_4_code                        124723\n",
       "service_level_3_category_hash        1121\n",
       "service_level_2_category_hash        1121\n",
       "service_level                           0\n",
       "дата убытка                             0\n",
       "loss                                    0\n",
       "dtype: int64"
      ]
     },
     "execution_count": 69,
     "metadata": {},
     "output_type": "execute_result"
    }
   ],
   "source": [
    "data.isna().sum()"
   ]
  },
  {
   "cell_type": "code",
   "execution_count": 70,
   "metadata": {},
   "outputs": [
    {
     "name": "stderr",
     "output_type": "stream",
     "text": [
      "<string>:6: RuntimeWarning: Converting input from bool to <class 'numpy.uint8'> for compatibility.\n"
     ]
    },
    {
     "data": {
      "image/png": "[encoded data removed]",
      "text/plain": [
       "<Figure size 1440x1440 with 12 Axes>"
      ]
     },
     "metadata": {
      "needs_background": "light"
     },
     "output_type": "display_data"
    }
   ],
   "source": [
    "data.hist(figsize = (20, 20), bins = 100);"
   ]
  },
  {
   "cell_type": "code",
   "execution_count": 71,
   "metadata": {},
   "outputs": [
    {
     "data": {
      "text/plain": [
       "array([[<matplotlib.axes._subplots.AxesSubplot object at 0x7fbef99dd290>]],\n",
       "      dtype=object)"
      ]
     },
     "execution_count": 71,
     "metadata": {},
     "output_type": "execute_result"
    },
    {
     "data": {
      "image/png": "[encoded data removed]",
      "text/plain": [
       "<Figure size 432x288 with 1 Axes>"
      ]
     },
     "metadata": {
      "needs_background": "light"
     },
     "output_type": "display_data"
    }
   ],
   "source": [
    "data.hist('loss', bins=100)"
   ]
  },
  {
   "cell_type": "markdown",
   "metadata": {},
   "source": [
    "Рассмотрим признаки, в которых очень много Nan, возможно их стоит не рассматривать вообще (например diagnosis_category_level_3_hash, diagnosis_category_level_1_hash, diagnosis_uuid). Остальные заполним 0 или пустой строкой. "
   ]
  },
  {
   "cell_type": "code",
   "execution_count": 72,
   "metadata": {},
   "outputs": [],
   "source": [
    "data['standartized_diagnosis_len'].fillna(0, inplace = True)"
   ]
  },
  {
   "cell_type": "code",
   "execution_count": 73,
   "metadata": {},
   "outputs": [],
   "source": [
    "data['service_code'].fillna('', inplace = True)"
   ]
  },
  {
   "cell_type": "code",
   "execution_count": 74,
   "metadata": {},
   "outputs": [],
   "source": [
    "data['folk_1_code'].fillna('', inplace = True)"
   ]
  },
  {
   "cell_type": "code",
   "execution_count": 75,
   "metadata": {},
   "outputs": [],
   "source": [
    "data['folk_2_code'].fillna('', inplace = True)"
   ]
  },
  {
   "cell_type": "code",
   "execution_count": 76,
   "metadata": {},
   "outputs": [],
   "source": [
    "data['service_level_3_category_hash'].fillna('', inplace = True)"
   ]
  },
  {
   "cell_type": "code",
   "execution_count": 77,
   "metadata": {},
   "outputs": [],
   "source": [
    "data['service_level_2_category_hash'].fillna('', inplace = True)"
   ]
  },
  {
   "cell_type": "code",
   "execution_count": 78,
   "metadata": {},
   "outputs": [],
   "source": [
    "data.drop(columns = ['diagnosis_uuid',\n",
    "                     'diagnosis_category_level_3_hash', 'diagnosis_category_level_1_hash', 'folk_3_code', 'folk_4_code']\n",
    "         , inplace = True)"
   ]
  },
  {
   "cell_type": "code",
   "execution_count": 79,
   "metadata": {},
   "outputs": [
    {
     "data": {
      "text/plain": [
       "created_at                       False\n",
       "status                           False\n",
       "guarant_letter_uuid              False\n",
       "comment_len                      False\n",
       "is_paid_by_patient               False\n",
       "patient_id                       False\n",
       "has_doctor                       False\n",
       "doctor_len                       False\n",
       "diagnosis_len                    False\n",
       "diagnosis_clarification_len      False\n",
       "standartized_diagnosis_len       False\n",
       "service_status                   False\n",
       "service_quantity                 False\n",
       "service_code                     False\n",
       "folk_1_code                      False\n",
       "folk_2_code                      False\n",
       "service_level_3_category_hash    False\n",
       "service_level_2_category_hash    False\n",
       "service_level                    False\n",
       "дата убытка                      False\n",
       "loss                             False\n",
       "dtype: bool"
      ]
     },
     "execution_count": 79,
     "metadata": {},
     "output_type": "execute_result"
    }
   ],
   "source": [
    "data.isna().any()"
   ]
  },
  {
   "cell_type": "code",
   "execution_count": 80,
   "metadata": {},
   "outputs": [],
   "source": [
    "from sklearn.model_selection import train_test_split\n",
    "\n",
    "X_train, X_test = train_test_split(data, test_size=0.2)\n",
    "y_train = X_train['loss']\n",
    "y_test = X_test['loss']"
   ]
  },
  {
   "cell_type": "markdown",
   "metadata": {},
   "source": [
    "Попробуем несколько моделей на тех признаках, которые мы имеем сейчас: "
   ]
  },
  {
   "cell_type": "raw",
   "metadata": {},
   "source": [
    "Ridge regression:"
   ]
  },
  {
   "cell_type": "code",
   "execution_count": 81,
   "metadata": {},
   "outputs": [
    {
     "name": "stdout",
     "output_type": "stream",
     "text": [
      "R2 =  0.7742037143165166 \n",
      " MAE =  1.3333918833324656 \n",
      " MSE =  8.271698460181032 \n",
      " RMSE =  2.876056059985798\n"
     ]
    }
   ],
   "source": [
    "from sklearn.pipeline import Pipeline\n",
    "from sklearn.compose import ColumnTransformer\n",
    "from sklearn.linear_model import Ridge\n",
    "from sklearn.preprocessing import OneHotEncoder, StandardScaler\n",
    "from sklearn.metrics import mean_squared_error\n",
    "from sklearn.metrics import r2_score\n",
    "from sklearn.metrics import mean_absolute_error\n",
    "#from sklearn.metrics import mean_absolute_percentage_error\n",
    "\n",
    "\n",
    "categorical_features = [\"created_at\", \"status\", \"guarant_letter_uuid\", \"is_paid_by_patient\", \"has_doctor\", \n",
    "                       \"service_code\", \"folk_1_code\", \"folk_2_code\", \"service_level_3_category_hash\", \n",
    "                       \"service_level_2_category_hash\"]\n",
    "\n",
    "numeric_features = [\"comment_len\", \"doctor_len\", \"diagnosis_len\", \"diagnosis_clarification_len\", \"standartized_diagnosis_len\",\n",
    "                    \"service_status\", \"service_quantity\", \"service_level\"]\n",
    "\n",
    "features = numeric_features + categorical_features\n",
    "\n",
    "column_transformer = ColumnTransformer([\n",
    "    ('ohe', OneHotEncoder(handle_unknown=\"ignore\"), categorical_features),\n",
    "    ('scaling', StandardScaler(), numeric_features)\n",
    "])\n",
    "\n",
    "pipeline = Pipeline(steps=[\n",
    "    ('ohe_and_scaling', column_transformer),\n",
    "    ('regression', Ridge())\n",
    "])\n",
    "\n",
    "model = pipeline.fit(X_train[features], y_train)\n",
    "y_pred = model.predict(X_test[features])\n",
    "\n",
    "print(\"R2 = \", r2_score(y_test, y_pred), \"\\n\", \"MAE = \",  mean_absolute_error(y_test, y_pred), '\\n',\n",
    "     \"MSE = \", mean_squared_error(y_test, y_pred), '\\n', \"RMSE = \", mean_squared_error(y_test, y_pred, squared = False)) \n",
    "      #\"MAPE = \", mean_absolute_percentage_error(y_test, y_pred))"
   ]
  },
  {
   "cell_type": "markdown",
   "metadata": {},
   "source": [
    "Lasso Regression:"
   ]
  },
  {
   "cell_type": "code",
   "execution_count": 82,
   "metadata": {},
   "outputs": [
    {
     "name": "stdout",
     "output_type": "stream",
     "text": [
      "R2 =  -5.9667143643915566e-05 \n",
      " MAE =  3.689172188772871 \n",
      " MSE =  36.63564253841191 \n",
      " RMSE =  6.052738433007981\n"
     ]
    }
   ],
   "source": [
    "from sklearn.linear_model import Lasso\n",
    "pipeline = Pipeline(steps=[\n",
    "    ('ohe_and_scaling', column_transformer),\n",
    "    ('regression', Lasso())\n",
    "])\n",
    "\n",
    "model = pipeline.fit(X_train[features], y_train)\n",
    "y_pred = model.predict(X_test[features])\n",
    "\n",
    "print(\"R2 = \", r2_score(y_test, y_pred), \"\\n\", \"MAE = \",  mean_absolute_error(y_test, y_pred), '\\n',\n",
    "     \"MSE = \", mean_squared_error(y_test, y_pred), '\\n', \"RMSE = \", mean_squared_error(y_test, y_pred, squared = False)) \n",
    "      #\"MAPE = \", mean_absolute_percentage_error(y_test, y_pred))"
   ]
  },
  {
   "cell_type": "markdown",
   "metadata": {},
   "source": [
    "Decision Tree:"
   ]
  },
  {
   "cell_type": "code",
   "execution_count": 89,
   "metadata": {},
   "outputs": [
    {
     "name": "stdout",
     "output_type": "stream",
     "text": [
      "R2 =  0.40467639003402345 \n",
      " MAE =  3.08473491064489 \n",
      " MSE =  21.808761702873248 \n",
      " RMSE =  4.66998519300364\n"
     ]
    }
   ],
   "source": [
    "from sklearn.tree import DecisionTreeRegressor\n",
    "pipeline = Pipeline(steps=[\n",
    "    ('ohe_and_scaling', column_transformer),\n",
    "    ('regression', DecisionTreeRegressor(max_depth = 100))\n",
    "])\n",
    "\n",
    "model = pipeline.fit(X_train[features], y_train)\n",
    "y_pred = model.predict(X_test[features])\n",
    "\n",
    "print(\"R2 = \", r2_score(y_test, y_pred), \"\\n\", \"MAE = \",  mean_absolute_error(y_test, y_pred), '\\n',\n",
    "     \"MSE = \", mean_squared_error(y_test, y_pred), '\\n', \"RMSE = \", mean_squared_error(y_test, y_pred, squared = False)) \n",
    "      #\"MAPE = \", mean_absolute_percentage_error(y_test, y_pred))"
   ]
  },
  {
   "cell_type": "markdown",
   "metadata": {},
   "source": [
    "Catboost:"
   ]
  },
  {
   "cell_type": "code",
   "execution_count": 100,
   "metadata": {},
   "outputs": [
    {
     "name": "stdout",
     "output_type": "stream",
     "text": [
      "R2 =  0.3256907717967885 \n",
      " MAE =  3.353867249169129 \n",
      " MSE =  25.26422523105335 \n",
      " RMSE =  5.026353074650979\n"
     ]
    }
   ],
   "source": [
    "from catboost import CatBoostRegressor\n",
    "\n",
    "pipeline = Pipeline(steps=[\n",
    "    ('ohe_and_scaling', column_transformer),\n",
    "    ('regression', CatBoostRegressor(iterations = 500, verbose = False))\n",
    "])\n",
    "\n",
    "model = pipeline.fit(X_train[features], y_train)\n",
    "y_pred = model.predict(X_test[features])\n",
    "\n",
    "print(\"R2 = \", r2_score(y_test, y_pred), \"\\n\", \"MAE = \",  mean_absolute_error(y_test, y_pred), '\\n',\n",
    "     \"MSE = \", mean_squared_error(y_test, y_pred), '\\n', \"RMSE = \", mean_squared_error(y_test, y_pred, squared = False)) \n",
    "      #\"MAPE = \", mean_absolute_percentage_error(y_test, y_pred))"
   ]
  }
 ],
 "metadata": {
  "colab": {
   "collapsed_sections": [],
   "name": "Untitled1.ipynb",
   "provenance": []
  },
  "kernelspec": {
   "display_name": "Python 3",
   "language": "python",
   "name": "python3"
  }
 },
 "nbformat": 4,
 "nbformat_minor": 1
}
