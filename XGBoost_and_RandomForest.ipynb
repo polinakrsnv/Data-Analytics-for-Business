{
 "cells": [
  {
   "cell_type": "markdown",
   "metadata": {},
   "source": [
    "## XGBoost + RandomForest"
   ]
  },
  {
   "cell_type": "code",
   "execution_count": 1,
   "metadata": {
    "id": "6tY2dUOWhaYA"
   },
   "outputs": [],
   "source": [
    "import pandas as pd\n",
    "from sklearn.model_selection import train_test_split\n",
    "import sklearn\n",
    "import warnings\n",
    "\n",
    "from sklearn.pipeline import Pipeline\n",
    "from sklearn.compose import ColumnTransformer\n",
    "from sklearn.linear_model import Ridge\n",
    "from sklearn.preprocessing import OneHotEncoder, StandardScaler\n",
    "from sklearn.metrics import mean_squared_error\n",
    "from sklearn.metrics import r2_score\n",
    "from sklearn.metrics import mean_absolute_error\n",
    "from xgboost import XGBRegressor\n",
    "from sklearn.metrics import mean_absolute_percentage_error\n",
    "\n",
    "import matplotlib.pyplot as plt\n",
    "import numpy as np\n",
    "from sklearn.ensemble import RandomForestRegressor"
   ]
  },
  {
   "cell_type": "code",
   "execution_count": 9,
   "metadata": {
    "scrolled": false
   },
   "outputs": [],
   "source": [
    "data = pd.read_csv('final_data.csv')"
   ]
  },
  {
   "cell_type": "code",
   "execution_count": 10,
   "metadata": {},
   "outputs": [
    {
     "data": {
      "text/html": [
       "<div>\n",
       "<style scoped>\n",
       "    .dataframe tbody tr th:only-of-type {\n",
       "        vertical-align: middle;\n",
       "    }\n",
       "\n",
       "    .dataframe tbody tr th {\n",
       "        vertical-align: top;\n",
       "    }\n",
       "\n",
       "    .dataframe thead th {\n",
       "        text-align: right;\n",
       "    }\n",
       "</style>\n",
       "<table border=\"1\" class=\"dataframe\">\n",
       "  <thead>\n",
       "    <tr style=\"text-align: right;\">\n",
       "      <th></th>\n",
       "      <th>Unnamed: 0</th>\n",
       "      <th>created_at_month</th>\n",
       "      <th>patient_id</th>\n",
       "      <th>folk_1_code</th>\n",
       "      <th>folk_2_code</th>\n",
       "      <th>folk_3_code</th>\n",
       "      <th>folk_4_code</th>\n",
       "      <th>comment_len</th>\n",
       "      <th>service_code</th>\n",
       "      <th>service_level_3_category_hash</th>\n",
       "      <th>...</th>\n",
       "      <th>standartized_diagnosis_len</th>\n",
       "      <th>diagnosis_uuid</th>\n",
       "      <th>diagnosis_category_level_3_hash</th>\n",
       "      <th>service_status</th>\n",
       "      <th>diagnosis_category_level_1_hash</th>\n",
       "      <th>service_quantity</th>\n",
       "      <th>cnt_visit</th>\n",
       "      <th>дата убытка</th>\n",
       "      <th>loss</th>\n",
       "      <th>month</th>\n",
       "    </tr>\n",
       "  </thead>\n",
       "  <tbody>\n",
       "    <tr>\n",
       "      <th>0</th>\n",
       "      <td>0</td>\n",
       "      <td>2020-07</td>\n",
       "      <td>3383</td>\n",
       "      <td>1</td>\n",
       "      <td>1</td>\n",
       "      <td>1</td>\n",
       "      <td>1</td>\n",
       "      <td>211.000000</td>\n",
       "      <td>1</td>\n",
       "      <td>1</td>\n",
       "      <td>...</td>\n",
       "      <td>0.0</td>\n",
       "      <td>1</td>\n",
       "      <td>1</td>\n",
       "      <td>0.428571</td>\n",
       "      <td>1</td>\n",
       "      <td>1.000</td>\n",
       "      <td>1</td>\n",
       "      <td>2020-07-19</td>\n",
       "      <td>6.84</td>\n",
       "      <td>2020-07</td>\n",
       "    </tr>\n",
       "    <tr>\n",
       "      <th>1</th>\n",
       "      <td>1</td>\n",
       "      <td>2020-07</td>\n",
       "      <td>3533</td>\n",
       "      <td>2</td>\n",
       "      <td>1</td>\n",
       "      <td>2</td>\n",
       "      <td>1</td>\n",
       "      <td>72.166667</td>\n",
       "      <td>2</td>\n",
       "      <td>2</td>\n",
       "      <td>...</td>\n",
       "      <td>0.0</td>\n",
       "      <td>1</td>\n",
       "      <td>1</td>\n",
       "      <td>0.000000</td>\n",
       "      <td>1</td>\n",
       "      <td>3.125</td>\n",
       "      <td>2</td>\n",
       "      <td>2020-07-31</td>\n",
       "      <td>2.09</td>\n",
       "      <td>2020-07</td>\n",
       "    </tr>\n",
       "    <tr>\n",
       "      <th>2</th>\n",
       "      <td>2</td>\n",
       "      <td>2020-07</td>\n",
       "      <td>3533</td>\n",
       "      <td>2</td>\n",
       "      <td>1</td>\n",
       "      <td>2</td>\n",
       "      <td>1</td>\n",
       "      <td>72.166667</td>\n",
       "      <td>2</td>\n",
       "      <td>2</td>\n",
       "      <td>...</td>\n",
       "      <td>0.0</td>\n",
       "      <td>1</td>\n",
       "      <td>1</td>\n",
       "      <td>0.000000</td>\n",
       "      <td>1</td>\n",
       "      <td>3.125</td>\n",
       "      <td>2</td>\n",
       "      <td>2020-07-19</td>\n",
       "      <td>3.15</td>\n",
       "      <td>2020-07</td>\n",
       "    </tr>\n",
       "    <tr>\n",
       "      <th>3</th>\n",
       "      <td>3</td>\n",
       "      <td>2020-07</td>\n",
       "      <td>3533</td>\n",
       "      <td>2</td>\n",
       "      <td>1</td>\n",
       "      <td>2</td>\n",
       "      <td>1</td>\n",
       "      <td>72.166667</td>\n",
       "      <td>2</td>\n",
       "      <td>2</td>\n",
       "      <td>...</td>\n",
       "      <td>0.0</td>\n",
       "      <td>1</td>\n",
       "      <td>1</td>\n",
       "      <td>0.000000</td>\n",
       "      <td>1</td>\n",
       "      <td>3.125</td>\n",
       "      <td>2</td>\n",
       "      <td>2020-07-17</td>\n",
       "      <td>9.20</td>\n",
       "      <td>2020-07</td>\n",
       "    </tr>\n",
       "    <tr>\n",
       "      <th>4</th>\n",
       "      <td>4</td>\n",
       "      <td>2020-07</td>\n",
       "      <td>3673</td>\n",
       "      <td>1</td>\n",
       "      <td>1</td>\n",
       "      <td>1</td>\n",
       "      <td>1</td>\n",
       "      <td>31.000000</td>\n",
       "      <td>1</td>\n",
       "      <td>1</td>\n",
       "      <td>...</td>\n",
       "      <td>0.0</td>\n",
       "      <td>1</td>\n",
       "      <td>1</td>\n",
       "      <td>0.000000</td>\n",
       "      <td>1</td>\n",
       "      <td>5.000</td>\n",
       "      <td>1</td>\n",
       "      <td>2020-07-15</td>\n",
       "      <td>2.72</td>\n",
       "      <td>2020-07</td>\n",
       "    </tr>\n",
       "  </tbody>\n",
       "</table>\n",
       "<p>5 rows × 28 columns</p>\n",
       "</div>"
      ],
      "text/plain": [
       "   Unnamed: 0 created_at_month  patient_id  folk_1_code  folk_2_code  \\\n",
       "0           0          2020-07        3383            1            1   \n",
       "1           1          2020-07        3533            2            1   \n",
       "2           2          2020-07        3533            2            1   \n",
       "3           3          2020-07        3533            2            1   \n",
       "4           4          2020-07        3673            1            1   \n",
       "\n",
       "   folk_3_code  folk_4_code  comment_len  service_code  \\\n",
       "0            1            1   211.000000             1   \n",
       "1            2            1    72.166667             2   \n",
       "2            2            1    72.166667             2   \n",
       "3            2            1    72.166667             2   \n",
       "4            1            1    31.000000             1   \n",
       "\n",
       "   service_level_3_category_hash  ...  standartized_diagnosis_len  \\\n",
       "0                              1  ...                         0.0   \n",
       "1                              2  ...                         0.0   \n",
       "2                              2  ...                         0.0   \n",
       "3                              2  ...                         0.0   \n",
       "4                              1  ...                         0.0   \n",
       "\n",
       "   diagnosis_uuid diagnosis_category_level_3_hash  service_status  \\\n",
       "0               1                               1        0.428571   \n",
       "1               1                               1        0.000000   \n",
       "2               1                               1        0.000000   \n",
       "3               1                               1        0.000000   \n",
       "4               1                               1        0.000000   \n",
       "\n",
       "   diagnosis_category_level_1_hash  service_quantity  cnt_visit  дата убытка  \\\n",
       "0                                1             1.000          1   2020-07-19   \n",
       "1                                1             3.125          2   2020-07-31   \n",
       "2                                1             3.125          2   2020-07-19   \n",
       "3                                1             3.125          2   2020-07-17   \n",
       "4                                1             5.000          1   2020-07-15   \n",
       "\n",
       "   loss    month  \n",
       "0  6.84  2020-07  \n",
       "1  2.09  2020-07  \n",
       "2  3.15  2020-07  \n",
       "3  9.20  2020-07  \n",
       "4  2.72  2020-07  \n",
       "\n",
       "[5 rows x 28 columns]"
      ]
     },
     "execution_count": 10,
     "metadata": {},
     "output_type": "execute_result"
    }
   ],
   "source": [
    "data.head()"
   ]
  },
  {
   "cell_type": "code",
   "execution_count": 11,
   "metadata": {},
   "outputs": [
    {
     "data": {
      "text/plain": [
       "Unnamed: 0                         False\n",
       "created_at_month                   False\n",
       "patient_id                         False\n",
       "folk_1_code                        False\n",
       "folk_2_code                        False\n",
       "folk_3_code                        False\n",
       "folk_4_code                        False\n",
       "comment_len                        False\n",
       "service_code                       False\n",
       "service_level_3_category_hash      False\n",
       "service_level_2_category_hash      False\n",
       "service_level                      False\n",
       "status                             False\n",
       "is_paid_by_patient                 False\n",
       "has_doctor                         False\n",
       "doctor_len                         False\n",
       "diagnosis_len                      False\n",
       "diagnosis_clarification_len        False\n",
       "standartized_diagnosis_len         False\n",
       "diagnosis_uuid                     False\n",
       "diagnosis_category_level_3_hash    False\n",
       "service_status                     False\n",
       "diagnosis_category_level_1_hash    False\n",
       "service_quantity                   False\n",
       "cnt_visit                          False\n",
       "дата убытка                        False\n",
       "loss                                True\n",
       "month                              False\n",
       "dtype: bool"
      ]
     },
     "execution_count": 11,
     "metadata": {},
     "output_type": "execute_result"
    }
   ],
   "source": [
    "data.isna().any()"
   ]
  },
  {
   "cell_type": "code",
   "execution_count": 12,
   "metadata": {},
   "outputs": [],
   "source": [
    "data = data.loc[data['loss'].notna()]"
   ]
  },
  {
   "cell_type": "markdown",
   "metadata": {},
   "source": [
    "Оставим в датасете только выбранные нами полезные признаки:"
   ]
  },
  {
   "cell_type": "code",
   "execution_count": 13,
   "metadata": {},
   "outputs": [],
   "source": [
    "data.drop(columns = ['Unnamed: 0', 'дата убытка', 'created_at_month'], inplace = True)"
   ]
  },
  {
   "cell_type": "markdown",
   "metadata": {},
   "source": [
    "Делим выборку на терйн и тест:"
   ]
  },
  {
   "cell_type": "code",
   "execution_count": 14,
   "metadata": {},
   "outputs": [],
   "source": [
    "X_train, X_test = train_test_split(data, test_size=0.2, random_state=42)\n",
    "y_train = X_train['loss']\n",
    "y_test = X_test['loss']"
   ]
  },
  {
   "cell_type": "markdown",
   "metadata": {},
   "source": [
    "Функция для получения названий признаков после кодирования:"
   ]
  },
  {
   "cell_type": "code",
   "execution_count": 15,
   "metadata": {},
   "outputs": [],
   "source": [
    "def get_feature_names(column_transformer):\n",
    "    def get_names(trans):\n",
    "        if trans == 'drop' or (\n",
    "                hasattr(column, '__len__') and not len(column)):\n",
    "            return []\n",
    "        if trans == 'passthrough':\n",
    "            if hasattr(column_transformer, '_df_columns'):\n",
    "                if ((not isinstance(column, slice))\n",
    "                        and all(isinstance(col, str) for col in column)):\n",
    "                    return column\n",
    "                else:\n",
    "                    return column_transformer._df_columns[column]\n",
    "            else:\n",
    "                indices = np.arange(column_transformer._n_features)\n",
    "                return ['x%d' % i for i in indices[column]]\n",
    "        if not hasattr(trans, 'get_feature_names'):\n",
    "            warnings.warn(\"Transformer %s (type %s) does not \"\n",
    "                                 \"provide get_feature_names. \"\n",
    "                                 \"Will return input column names if available\"\n",
    "                                 % (str(name), type(trans).__name__))\n",
    "            if column is None:\n",
    "                return []\n",
    "            else:\n",
    "                return [name + \"__\" + f for f in column]\n",
    "\n",
    "        return [name + \"__\" + f for f in trans.get_feature_names()]\n",
    "    \n",
    "    feature_names = []\n",
    "    \n",
    "    if type(column_transformer) == sklearn.pipeline.Pipeline:\n",
    "        l_transformers = [(name, trans, None, None) for step, name, trans in column_transformer._iter()]\n",
    "    else:\n",
    "        l_transformers = list(column_transformer._iter(fitted=True))\n",
    "    \n",
    "    \n",
    "    for name, trans, column, _ in l_transformers: \n",
    "        if type(trans) == sklearn.pipeline.Pipeline:\n",
    "            _names = get_feature_names(trans)\n",
    "            if len(_names)==0:\n",
    "                _names = [name + \"__\" + f for f in column]\n",
    "            feature_names.extend(_names)\n",
    "        else:\n",
    "            feature_names.extend(get_names(trans))\n",
    "    \n",
    "    return feature_names"
   ]
  },
  {
   "cell_type": "markdown",
   "metadata": {},
   "source": [
    "### XGBoost"
   ]
  },
  {
   "cell_type": "markdown",
   "metadata": {},
   "source": [
    "Разделим признаки на вещественные и категориальные:"
   ]
  },
  {
   "cell_type": "code",
   "execution_count": 52,
   "metadata": {},
   "outputs": [],
   "source": [
    "numeric_features = ['folk_4_code', 'comment_len', 'service_code', 'service_level_3_category_hash',\n",
    "'service_level', 'doctor_len', 'diagnosis_len', 'diagnosis_clarification_len', 'standartized_diagnosis_len',\n",
    "'diagnosis_uuid', 'diagnosis_category_level_3_hash', 'service_status', 'diagnosis_category_level_1_hash',\n",
    "'service_quantity', 'cnt_visit']\n",
    "\n",
    "categorical_features = ['status', 'month', 'patient_id']\n",
    "features = numeric_features + categorical_features"
   ]
  },
  {
   "cell_type": "markdown",
   "metadata": {},
   "source": [
    "Подберем гиперпараметры:"
   ]
  },
  {
   "cell_type": "code",
   "execution_count": 53,
   "metadata": {
    "scrolled": true
   },
   "outputs": [
    {
     "name": "stdout",
     "output_type": "stream",
     "text": [
      "SCORE:                                                \n",
      "2.8859873525068918                                    \n",
      "SCORE:                                                                           \n",
      "2.8722658576832583                                                               \n",
      "SCORE:                                                                           \n",
      "2.8510903984634877                                                               \n",
      "SCORE:                                                                           \n",
      "2.9363011258855534                                                               \n",
      "SCORE:                                                                           \n",
      "2.9231508182655284                                                               \n",
      "SCORE:                                                                           \n",
      "2.9670706410632226                                                               \n",
      "SCORE:                                                                           \n",
      "2.838031723943997                                                               \n",
      "SCORE:                                                                          \n",
      "2.879380069810686                                                               \n",
      "SCORE:                                                                          \n",
      "2.913480454882939                                                               \n",
      "SCORE:                                                                          \n",
      "2.8230265020882332                                                             \n",
      "SCORE:                                                                            \n",
      "2.920113814879105                                                                 \n",
      "SCORE:                                                                            \n",
      "2.866309970280688                                                                 \n",
      "SCORE:                                                                            \n",
      "2.8307430349510527                                                                \n",
      "SCORE:                                                                            \n",
      "2.8884886411545594                                                                \n",
      "SCORE:                                                                            \n",
      "2.8156393975157514                                                                \n",
      "SCORE:                                                                            \n",
      "2.9834484522468454                                                                \n",
      "SCORE:                                                                            \n",
      "2.8368655472265396                                                                \n",
      "SCORE:                                                                            \n",
      "2.842493503891088                                                                 \n",
      "SCORE:                                                                            \n",
      "2.9819299103089985                                                                \n",
      "SCORE:                                                                            \n",
      "2.8562439114955667                                                                \n",
      "100%|██████████| 20/20 [41:19<00:00, 123.96s/trial, best loss: 2.8156393975157514]\n",
      "The best hyperparameters are :  \n",
      "\n",
      "{'colsample_bytree': 0.9174260192643061, 'gamma': 3.3760569413885024, 'max_depth': 17.0, 'min_child_weight': 2.0, 'reg_alpha': 68.0, 'reg_lambda': 0.9606554454798392}\n"
     ]
    }
   ],
   "source": [
    "from hyperopt import STATUS_OK, Trials, fmin, hp, tpe\n",
    "\n",
    "space={'max_depth': hp.quniform(\"max_depth\", 3, 18, 1),\n",
    "        'gamma': hp.uniform ('gamma', 1,9),\n",
    "        'reg_alpha' : hp.quniform('reg_alpha', 40,180,1),\n",
    "        'reg_lambda' : hp.uniform('reg_lambda', 0,1),\n",
    "        'colsample_bytree' : hp.uniform('colsample_bytree', 0.5,1),\n",
    "        'min_child_weight' : hp.quniform('min_child_weight', 0, 10, 1),\n",
    "        'n_estimators': 180,\n",
    "        'seed': 0\n",
    "    }\n",
    "\n",
    "def objective(space):\n",
    "    model = XGBRegressor(n_estimators =space['n_estimators'], max_depth = int(space['max_depth']), gamma = space['gamma'],\n",
    "                    reg_alpha = int(space['reg_alpha']),min_child_weight=int(space['min_child_weight']))\n",
    "    \n",
    "    column_transformer = ColumnTransformer([\n",
    "        ('ohe', OneHotEncoder(handle_unknown=\"ignore\"), categorical_features),\n",
    "        ('scaling', StandardScaler(), numeric_features)\n",
    "    ])\n",
    "\n",
    "    pipeline = Pipeline(steps=[\n",
    "        ('ohe_and_scaling', column_transformer),\n",
    "        ('regression', model)\n",
    "    ])\n",
    "    \n",
    "    evaluation = [(X_train, y_train), (X_test, y_test)]\n",
    "    model = pipeline.fit(X_train[features], y_train)\n",
    "    y_pred = model.predict(X_test[features])\n",
    "    \n",
    "    loss = mean_absolute_error(y_test, y_pred)\n",
    "    print (\"SCORE:\", loss)\n",
    "    return {'loss': loss, 'status': STATUS_OK }\n",
    "\n",
    "trials = Trials()\n",
    "\n",
    "best_hyperparams = fmin(fn = objective,\n",
    "                        space = space,\n",
    "                        algo = tpe.suggest,\n",
    "                        max_evals = 20,\n",
    "                        trials = trials)\n",
    "\n",
    "print(\"The best hyperparameters are : \",\"\\n\")\n",
    "print(best_hyperparams)"
   ]
  },
  {
   "cell_type": "code",
   "execution_count": 58,
   "metadata": {},
   "outputs": [
    {
     "name": "stdout",
     "output_type": "stream",
     "text": [
      "R2 =  0.1464268106910983 \n",
      " MAE =  2.8192931529198155 \n",
      " MSE =  23.970452308881246 \n",
      " RMSE =  4.895962858200749 \n",
      " MAPE =  0.9816306072282323\n"
     ]
    }
   ],
   "source": [
    "features = numeric_features + categorical_features\n",
    "\n",
    "column_transformer = ColumnTransformer([\n",
    "    ('ohe', OneHotEncoder(handle_unknown=\"ignore\"), categorical_features),\n",
    "    ('scaling', StandardScaler(), numeric_features)\n",
    "])\n",
    "\n",
    "pipeline = Pipeline(steps=[\n",
    "    ('ohe_and_scaling', column_transformer),\n",
    "    ('regression', XGBRegressor(colsample_bytree=0.9174260192643061, gamma=3.3760569413885024, max_depth=17,\n",
    "                                min_child_weight=2.0, reg_alpha=68.0, reg_lambda=0.9606554454798392,  seed=0, n_estimators=180))\n",
    "])\n",
    "\n",
    "model = pipeline.fit(X_train[features], y_train)\n",
    "y_pred = model.predict(X_test[features])\n",
    "\n",
    "print(\"R2 = \", r2_score(y_test, y_pred), \"\\n\", \"MAE = \",  mean_absolute_error(y_test, y_pred), '\\n',\n",
    "     \"MSE = \", mean_squared_error(y_test, y_pred), '\\n', \"RMSE = \", mean_squared_error(y_test, y_pred, squared = False), '\\n',\n",
    "      \"MAPE = \", mean_absolute_percentage_error(y_test, y_pred))"
   ]
  },
  {
   "cell_type": "markdown",
   "metadata": {},
   "source": [
    "Посмотрим на важность признаков"
   ]
  },
  {
   "cell_type": "code",
   "execution_count": 65,
   "metadata": {},
   "outputs": [
    {
     "name": "stderr",
     "output_type": "stream",
     "text": [
      "<ipython-input-15-2c7e50f4e2a4>:17: UserWarning: Transformer scaling (type StandardScaler) does not provide get_feature_names. Will return input column names if available\n",
      "  warnings.warn(\"Transformer %s (type %s) does not \"\n"
     ]
    },
    {
     "data": {
      "image/png": "[encoded data removed]",
      "text/plain": [
       "<Figure size 576x576 with 1 Axes>"
      ]
     },
     "metadata": {
      "needs_background": "light"
     },
     "output_type": "display_data"
    }
   ],
   "source": [
    "plt.rcParams[\"figure.figsize\"] = (8,8)\n",
    "\n",
    "sorted_idx = pipeline[1].feature_importances_.argsort()[31520:]\n",
    "plt.barh(np.array(get_feature_names(column_transformer))[sorted_idx],\\\n",
    "        pipeline[1].feature_importances_[sorted_idx], color='deepskyblue')\n",
    "plt.xlabel(\"Xgboost Feature Importance\")\n",
    "plt.show()"
   ]
  },
  {
   "cell_type": "markdown",
   "metadata": {},
   "source": [
    "Как видим, наибольшую важность имеют id клиентов.\n",
    "\n",
    "Изобразим предсказанные значения и таргет на графике:"
   ]
  },
  {
   "cell_type": "code",
   "execution_count": 66,
   "metadata": {},
   "outputs": [
    {
     "data": {
      "image/png": "[encoded data removed]",
      "text/plain": [
       "<Figure size 720x720 with 1 Axes>"
      ]
     },
     "metadata": {
      "needs_background": "light"
     },
     "output_type": "display_data"
    }
   ],
   "source": [
    "plt.figure(figsize=(10,10))\n",
    "plt.scatter(y_test, y_pred, c='plum')\n",
    "#plt.yscale('log')\n",
    "#plt.xscale('log')\n",
    "\n",
    "p1 = max(max(y_pred), max(y_test))\n",
    "p2 = min(min(y_pred), min(y_test))\n",
    "plt.plot([p1, p2], [p1, p2], 'k--')\n",
    "plt.xlabel('True Values', fontsize=15)\n",
    "plt.ylabel('Predictions', fontsize=15)\n",
    "plt.axis('equal')\n",
    "plt.show()"
   ]
  },
  {
   "cell_type": "markdown",
   "metadata": {},
   "source": [
    "Наблюдается очень большой разброс, что объясняет плохое значение метрики R2"
   ]
  },
  {
   "cell_type": "markdown",
   "metadata": {},
   "source": [
    "### RandomForest"
   ]
  },
  {
   "cell_type": "markdown",
   "metadata": {},
   "source": [
    "Подберем гиперпараметры:"
   ]
  },
  {
   "cell_type": "code",
   "execution_count": 82,
   "metadata": {},
   "outputs": [
    {
     "name": "stdout",
     "output_type": "stream",
     "text": [
      "SCORE:                                                \n",
      "3.0625313735873227                                    \n",
      "SCORE:                                                                           \n",
      "3.0511395416028844                                                               \n",
      "SCORE:                                                                           \n",
      "3.0792534610925757                                                               \n",
      "SCORE:                                                                           \n",
      "3.0679966182594653                                                               \n",
      "SCORE:                                                                           \n",
      "3.070253567407666                                                                \n",
      "SCORE:                                                                           \n",
      "3.0548101469918847                                                               \n",
      "SCORE:                                                                           \n",
      "3.0377514523682665                                                               \n",
      "SCORE:                                                                           \n",
      "3.057091666580582                                                                \n",
      "SCORE:                                                                           \n",
      "3.062039909179847                                                                \n",
      "SCORE:                                                                           \n",
      "3.026881177597764                                                                \n",
      "100%|██████████| 10/10 [31:25<00:00, 188.58s/trial, best loss: 3.026881177597764]\n",
      "The best hyperparameters are :  \n",
      "\n",
      "{'max_depth': 10.0, 'min_samples_leaf': 13.0, 'min_samples_split': 5.0}\n"
     ]
    }
   ],
   "source": [
    "space={'max_depth': hp.quniform(\"max_depth\", 3, 10, 1),\n",
    "        'min_samples_leaf': hp.quniform(\"min_samples_leaf\", 3, 15, 1),\n",
    "        'min_samples_split': hp.quniform(\"min_samples_split\", 3, 15, 1),\n",
    "        'n_estimators': 100,\n",
    "        'seed': 0\n",
    "    }\n",
    "\n",
    "def objective(space):\n",
    "    model = RandomForestRegressor(n_estimators =space['n_estimators'], max_depth = int(space['max_depth']),\n",
    "                         min_samples_leaf = int(space['min_samples_leaf']), min_samples_split = int(space['min_samples_split']),\n",
    "                        )\n",
    "    \n",
    "    column_transformer = ColumnTransformer([\n",
    "        ('ohe', OneHotEncoder(handle_unknown=\"ignore\"), categorical_features),\n",
    "        ('scaling', StandardScaler(), numeric_features)\n",
    "    ])\n",
    "\n",
    "    pipeline = Pipeline(steps=[\n",
    "        ('ohe_and_scaling', column_transformer),\n",
    "        ('regression', model)\n",
    "    ])\n",
    "    \n",
    "    evaluation = [(X_train, y_train), (X_test, y_test)]\n",
    "    model = pipeline.fit(X_train[features], y_train)\n",
    "    y_pred = model.predict(X_test[features])\n",
    "    \n",
    "    loss = mean_absolute_error(y_test, y_pred)\n",
    "    print (\"SCORE:\", loss)\n",
    "    return {'loss': loss, 'status': STATUS_OK }\n",
    "\n",
    "trials = Trials()\n",
    "\n",
    "best_hyperparams = fmin(fn = objective,\n",
    "                        space = space,\n",
    "                        algo = tpe.suggest,\n",
    "                        max_evals = 10,\n",
    "                        trials = trials)\n",
    "\n",
    "print(\"The best hyperparameters are : \",\"\\n\")\n",
    "print(best_hyperparams)"
   ]
  },
  {
   "cell_type": "code",
   "execution_count": 72,
   "metadata": {},
   "outputs": [
    {
     "name": "stdout",
     "output_type": "stream",
     "text": [
      "R2 =  0.04083706130014886 \n",
      " MAE =  3.059597202731454 \n",
      " MSE =  26.935674370426707 \n",
      " RMSE =  5.189958995062168 \n",
      " MAPE =  1.1970402940452656\n"
     ]
    }
   ],
   "source": [
    "pipeline = Pipeline(steps=[\n",
    "    ('ohe_and_scaling', column_transformer),\n",
    "    ('regression', RandomForestRegressor(n_estimators=100, max_depth=7,\n",
    "                         min_samples_leaf=5, min_samples_split=5,\n",
    "                         bootstrap=True))\n",
    "])\n",
    "\n",
    "model = pipeline.fit(X_train[features], y_train)\n",
    "y_pred = model.predict(X_test[features])\n",
    "\n",
    "print(\"R2 = \", r2_score(y_test, y_pred), \"\\n\", \"MAE = \",  mean_absolute_error(y_test, y_pred), '\\n',\n",
    "     \"MSE = \", mean_squared_error(y_test, y_pred), '\\n', \"RMSE = \", mean_squared_error(y_test, y_pred, squared = False), '\\n',\n",
    "      \"MAPE = \", mean_absolute_percentage_error(y_test, y_pred))"
   ]
  },
  {
   "cell_type": "markdown",
   "metadata": {},
   "source": [
    "Предсказание получилось хуже чем у XGBoost. Посмотрим на важность признаков"
   ]
  },
  {
   "cell_type": "code",
   "execution_count": 73,
   "metadata": {},
   "outputs": [
    {
     "name": "stderr",
     "output_type": "stream",
     "text": [
      "<ipython-input-15-2c7e50f4e2a4>:17: UserWarning: Transformer scaling (type StandardScaler) does not provide get_feature_names. Will return input column names if available\n",
      "  warnings.warn(\"Transformer %s (type %s) does not \"\n"
     ]
    },
    {
     "data": {
      "image/png": "[encoded data removed]",
      "text/plain": [
       "<Figure size 576x576 with 1 Axes>"
      ]
     },
     "metadata": {
      "needs_background": "light"
     },
     "output_type": "display_data"
    }
   ],
   "source": [
    "sorted_idx = pipeline[1].feature_importances_.argsort()[31520:]\n",
    "plt.barh(np.array(get_feature_names(column_transformer))[sorted_idx],\\\n",
    "        pipeline[1].feature_importances_[sorted_idx], color='deepskyblue')\n",
    "plt.xlabel(\"Random Forest Feature Importance\")\n",
    "plt.show()"
   ]
  },
  {
   "cell_type": "markdown",
   "metadata": {},
   "source": [
    "В отличие от XGBoost, наиболее важными признаками при построении прогноза у RandomForest стали не только id клинтов, но и длина диагноза, уровень сервиса, длина комментария и т.д. \n",
    "\n",
    "Визуализируем предсказания:"
   ]
  },
  {
   "cell_type": "code",
   "execution_count": 78,
   "metadata": {},
   "outputs": [
    {
     "data": {
      "image/png": "[encoded data removed]",
      "text/plain": [
       "<Figure size 720x720 with 1 Axes>"
      ]
     },
     "metadata": {
      "needs_background": "light"
     },
     "output_type": "display_data"
    }
   ],
   "source": [
    "plt.figure(figsize=(10,10))\n",
    "plt.scatter(y_test, y_pred, c='plum')\n",
    "#plt.yscale('log')\n",
    "#plt.xscale('log')\n",
    "\n",
    "p1 = max(max(y_pred), max(y_test))\n",
    "p2 = min(min(y_pred), min(y_test))\n",
    "plt.plot([p1, p2], [p1, p2], 'k--')\n",
    "plt.xlabel('True Values', fontsize=15)\n",
    "plt.ylabel('Predictions', fontsize=15)\n",
    "plt.axis('equal')\n",
    "plt.show()"
   ]
  },
  {
   "cell_type": "markdown",
   "metadata": {},
   "source": [
    "Наглядно видно, что предсказания получились значительно хуже чем у XGBoost"
   ]
  },
  {
   "cell_type": "code",
   "execution_count": null,
   "metadata": {},
   "outputs": [],
   "source": []
  }
 ],
 "metadata": {
  "colab": {
   "collapsed_sections": [],
   "name": "Untitled1.ipynb",
   "provenance": []
  },
  "kernelspec": {
   "display_name": "Python 3",
   "language": "python",
   "name": "python3"
  },
  "language_info": {
   "codemirror_mode": {
    "name": "ipython",
    "version": 3
   },
   "file_extension": ".py",
   "mimetype": "text/x-python",
   "name": "python",
   "nbconvert_exporter": "python",
   "pygments_lexer": "ipython3",
   "version": "3.8.5"
  }
 },
 "nbformat": 4,
 "nbformat_minor": 1
}
