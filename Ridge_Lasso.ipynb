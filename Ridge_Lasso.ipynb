{
  "cells": [
    {
      "cell_type": "code",
      "execution_count": 25,
      "id": "c2b0b480",
      "metadata": {
        "id": "c2b0b480"
      },
      "outputs": [],
      "source": [
        "import pandas as pd\n",
        "import numpy as np\n",
        "import matplotlib.pyplot as plt\n",
        "import seaborn as sns\n",
        "\n",
        "%matplotlib inline\n",
        "\n",
        "sns.set(style=\"darkgrid\")"
      ]
    },
    {
      "cell_type": "code",
      "execution_count": 2,
      "id": "b7ce4e58",
      "metadata": {
        "id": "b7ce4e58"
      },
      "outputs": [],
      "source": [
        "df = pd.read_csv('/content/merged.csv')"
      ]
    },
    {
      "cell_type": "code",
      "execution_count": 3,
      "id": "013be5b6",
      "metadata": {
        "colab": {
          "base_uri": "https://localhost:8080/",
          "height": 678
        },
        "id": "013be5b6",
        "outputId": "e4d5bf6b-4447-4c6d-ad62-d1eaf0239a42"
      },
      "outputs": [
        {
          "output_type": "execute_result",
          "data": {
            "text/plain": [
              "        Unnamed: 0 created_at_month  patient_id  folk_1_code  folk_2_code  \\\n",
              "0                0          2020-07        3383            1            1   \n",
              "1                1          2020-07        3533            2            1   \n",
              "2                2          2020-07        3533            2            1   \n",
              "3                3          2020-07        3533            2            1   \n",
              "4                4          2020-07        3673            1            1   \n",
              "...            ...              ...         ...          ...          ...   \n",
              "226374      226374          2022-02      203973            1            1   \n",
              "226375      226375          2022-02      203992            1            1   \n",
              "226376      226376          2022-02      203999            1            1   \n",
              "226377      226377          2022-02      203999            1            1   \n",
              "226378      226378          2022-02      204818            1            1   \n",
              "\n",
              "        folk_3_code  folk_4_code  comment_len  service_code  \\\n",
              "0                 1            1   211.000000             1   \n",
              "1                 2            1    72.166667             2   \n",
              "2                 2            1    72.166667             2   \n",
              "3                 2            1    72.166667             2   \n",
              "4                 1            1    31.000000             1   \n",
              "...             ...          ...          ...           ...   \n",
              "226374            1            1   117.000000             1   \n",
              "226375            1            1   356.000000             1   \n",
              "226376            1            1    30.500000             1   \n",
              "226377            1            1    30.500000             1   \n",
              "226378            1            1   167.000000             1   \n",
              "\n",
              "        service_level_3_category_hash  ...  standartized_diagnosis_len  \\\n",
              "0                                   1  ...                         0.0   \n",
              "1                                   2  ...                         0.0   \n",
              "2                                   2  ...                         0.0   \n",
              "3                                   2  ...                         0.0   \n",
              "4                                   1  ...                         0.0   \n",
              "...                               ...  ...                         ...   \n",
              "226374                              1  ...                        52.0   \n",
              "226375                              1  ...                        46.0   \n",
              "226376                              1  ...                        70.0   \n",
              "226377                              1  ...                        70.0   \n",
              "226378                              1  ...                       129.0   \n",
              "\n",
              "        diagnosis_uuid diagnosis_category_level_3_hash  service_status  \\\n",
              "0                    1                               1        0.428571   \n",
              "1                    1                               1        0.000000   \n",
              "2                    1                               1        0.000000   \n",
              "3                    1                               1        0.000000   \n",
              "4                    1                               1        0.000000   \n",
              "...                ...                             ...             ...   \n",
              "226374               1                               1        0.000000   \n",
              "226375               1                               1        0.000000   \n",
              "226376               1                               1        0.000000   \n",
              "226377               1                               1        0.000000   \n",
              "226378               1                               1        0.000000   \n",
              "\n",
              "        diagnosis_category_level_1_hash  service_quantity  cnt_visit  \\\n",
              "0                                     1             1.000          1   \n",
              "1                                     1             3.125          2   \n",
              "2                                     1             3.125          2   \n",
              "3                                     1             3.125          2   \n",
              "4                                     1             5.000          1   \n",
              "...                                 ...               ...        ...   \n",
              "226374                                1             1.000          1   \n",
              "226375                                1             1.000          1   \n",
              "226376                                1             1.000          2   \n",
              "226377                                1             1.000          2   \n",
              "226378                                1             1.000          1   \n",
              "\n",
              "        дата убытка   loss    month  \n",
              "0        2020-07-19  6.840  2020-07  \n",
              "1        2020-07-31  2.090  2020-07  \n",
              "2        2020-07-19  3.150  2020-07  \n",
              "3        2020-07-17  9.200  2020-07  \n",
              "4        2020-07-15  2.720  2020-07  \n",
              "...             ...    ...      ...  \n",
              "226374   2022-02-17  1.700  2022-02  \n",
              "226375   2022-02-25  0.702  2022-02  \n",
              "226376   2022-02-24  6.050  2022-02  \n",
              "226377   2022-02-25  1.650  2022-02  \n",
              "226378   2022-02-26  1.216  2022-02  \n",
              "\n",
              "[226379 rows x 28 columns]"
            ],
            "text/html": [
              "\n",
              "  <div id=\"df-6f8e257a-b7df-4692-9fee-4adb10e5636d\">\n",
              "    <div class=\"colab-df-container\">\n",
              "      <div>\n",
              "<style scoped>\n",
              "    .dataframe tbody tr th:only-of-type {\n",
              "        vertical-align: middle;\n",
              "    }\n",
              "\n",
              "    .dataframe tbody tr th {\n",
              "        vertical-align: top;\n",
              "    }\n",
              "\n",
              "    .dataframe thead th {\n",
              "        text-align: right;\n",
              "    }\n",
              "</style>\n",
              "<table border=\"1\" class=\"dataframe\">\n",
              "  <thead>\n",
              "    <tr style=\"text-align: right;\">\n",
              "      <th></th>\n",
              "      <th>Unnamed: 0</th>\n",
              "      <th>created_at_month</th>\n",
              "      <th>patient_id</th>\n",
              "      <th>folk_1_code</th>\n",
              "      <th>folk_2_code</th>\n",
              "      <th>folk_3_code</th>\n",
              "      <th>folk_4_code</th>\n",
              "      <th>comment_len</th>\n",
              "      <th>service_code</th>\n",
              "      <th>service_level_3_category_hash</th>\n",
              "      <th>...</th>\n",
              "      <th>standartized_diagnosis_len</th>\n",
              "      <th>diagnosis_uuid</th>\n",
              "      <th>diagnosis_category_level_3_hash</th>\n",
              "      <th>service_status</th>\n",
              "      <th>diagnosis_category_level_1_hash</th>\n",
              "      <th>service_quantity</th>\n",
              "      <th>cnt_visit</th>\n",
              "      <th>дата убытка</th>\n",
              "      <th>loss</th>\n",
              "      <th>month</th>\n",
              "    </tr>\n",
              "  </thead>\n",
              "  <tbody>\n",
              "    <tr>\n",
              "      <th>0</th>\n",
              "      <td>0</td>\n",
              "      <td>2020-07</td>\n",
              "      <td>3383</td>\n",
              "      <td>1</td>\n",
              "      <td>1</td>\n",
              "      <td>1</td>\n",
              "      <td>1</td>\n",
              "      <td>211.000000</td>\n",
              "      <td>1</td>\n",
              "      <td>1</td>\n",
              "      <td>...</td>\n",
              "      <td>0.0</td>\n",
              "      <td>1</td>\n",
              "      <td>1</td>\n",
              "      <td>0.428571</td>\n",
              "      <td>1</td>\n",
              "      <td>1.000</td>\n",
              "      <td>1</td>\n",
              "      <td>2020-07-19</td>\n",
              "      <td>6.840</td>\n",
              "      <td>2020-07</td>\n",
              "    </tr>\n",
              "    <tr>\n",
              "      <th>1</th>\n",
              "      <td>1</td>\n",
              "      <td>2020-07</td>\n",
              "      <td>3533</td>\n",
              "      <td>2</td>\n",
              "      <td>1</td>\n",
              "      <td>2</td>\n",
              "      <td>1</td>\n",
              "      <td>72.166667</td>\n",
              "      <td>2</td>\n",
              "      <td>2</td>\n",
              "      <td>...</td>\n",
              "      <td>0.0</td>\n",
              "      <td>1</td>\n",
              "      <td>1</td>\n",
              "      <td>0.000000</td>\n",
              "      <td>1</td>\n",
              "      <td>3.125</td>\n",
              "      <td>2</td>\n",
              "      <td>2020-07-31</td>\n",
              "      <td>2.090</td>\n",
              "      <td>2020-07</td>\n",
              "    </tr>\n",
              "    <tr>\n",
              "      <th>2</th>\n",
              "      <td>2</td>\n",
              "      <td>2020-07</td>\n",
              "      <td>3533</td>\n",
              "      <td>2</td>\n",
              "      <td>1</td>\n",
              "      <td>2</td>\n",
              "      <td>1</td>\n",
              "      <td>72.166667</td>\n",
              "      <td>2</td>\n",
              "      <td>2</td>\n",
              "      <td>...</td>\n",
              "      <td>0.0</td>\n",
              "      <td>1</td>\n",
              "      <td>1</td>\n",
              "      <td>0.000000</td>\n",
              "      <td>1</td>\n",
              "      <td>3.125</td>\n",
              "      <td>2</td>\n",
              "      <td>2020-07-19</td>\n",
              "      <td>3.150</td>\n",
              "      <td>2020-07</td>\n",
              "    </tr>\n",
              "    <tr>\n",
              "      <th>3</th>\n",
              "      <td>3</td>\n",
              "      <td>2020-07</td>\n",
              "      <td>3533</td>\n",
              "      <td>2</td>\n",
              "      <td>1</td>\n",
              "      <td>2</td>\n",
              "      <td>1</td>\n",
              "      <td>72.166667</td>\n",
              "      <td>2</td>\n",
              "      <td>2</td>\n",
              "      <td>...</td>\n",
              "      <td>0.0</td>\n",
              "      <td>1</td>\n",
              "      <td>1</td>\n",
              "      <td>0.000000</td>\n",
              "      <td>1</td>\n",
              "      <td>3.125</td>\n",
              "      <td>2</td>\n",
              "      <td>2020-07-17</td>\n",
              "      <td>9.200</td>\n",
              "      <td>2020-07</td>\n",
              "    </tr>\n",
              "    <tr>\n",
              "      <th>4</th>\n",
              "      <td>4</td>\n",
              "      <td>2020-07</td>\n",
              "      <td>3673</td>\n",
              "      <td>1</td>\n",
              "      <td>1</td>\n",
              "      <td>1</td>\n",
              "      <td>1</td>\n",
              "      <td>31.000000</td>\n",
              "      <td>1</td>\n",
              "      <td>1</td>\n",
              "      <td>...</td>\n",
              "      <td>0.0</td>\n",
              "      <td>1</td>\n",
              "      <td>1</td>\n",
              "      <td>0.000000</td>\n",
              "      <td>1</td>\n",
              "      <td>5.000</td>\n",
              "      <td>1</td>\n",
              "      <td>2020-07-15</td>\n",
              "      <td>2.720</td>\n",
              "      <td>2020-07</td>\n",
              "    </tr>\n",
              "    <tr>\n",
              "      <th>...</th>\n",
              "      <td>...</td>\n",
              "      <td>...</td>\n",
              "      <td>...</td>\n",
              "      <td>...</td>\n",
              "      <td>...</td>\n",
              "      <td>...</td>\n",
              "      <td>...</td>\n",
              "      <td>...</td>\n",
              "      <td>...</td>\n",
              "      <td>...</td>\n",
              "      <td>...</td>\n",
              "      <td>...</td>\n",
              "      <td>...</td>\n",
              "      <td>...</td>\n",
              "      <td>...</td>\n",
              "      <td>...</td>\n",
              "      <td>...</td>\n",
              "      <td>...</td>\n",
              "      <td>...</td>\n",
              "      <td>...</td>\n",
              "      <td>...</td>\n",
              "    </tr>\n",
              "    <tr>\n",
              "      <th>226374</th>\n",
              "      <td>226374</td>\n",
              "      <td>2022-02</td>\n",
              "      <td>203973</td>\n",
              "      <td>1</td>\n",
              "      <td>1</td>\n",
              "      <td>1</td>\n",
              "      <td>1</td>\n",
              "      <td>117.000000</td>\n",
              "      <td>1</td>\n",
              "      <td>1</td>\n",
              "      <td>...</td>\n",
              "      <td>52.0</td>\n",
              "      <td>1</td>\n",
              "      <td>1</td>\n",
              "      <td>0.000000</td>\n",
              "      <td>1</td>\n",
              "      <td>1.000</td>\n",
              "      <td>1</td>\n",
              "      <td>2022-02-17</td>\n",
              "      <td>1.700</td>\n",
              "      <td>2022-02</td>\n",
              "    </tr>\n",
              "    <tr>\n",
              "      <th>226375</th>\n",
              "      <td>226375</td>\n",
              "      <td>2022-02</td>\n",
              "      <td>203992</td>\n",
              "      <td>1</td>\n",
              "      <td>1</td>\n",
              "      <td>1</td>\n",
              "      <td>1</td>\n",
              "      <td>356.000000</td>\n",
              "      <td>1</td>\n",
              "      <td>1</td>\n",
              "      <td>...</td>\n",
              "      <td>46.0</td>\n",
              "      <td>1</td>\n",
              "      <td>1</td>\n",
              "      <td>0.000000</td>\n",
              "      <td>1</td>\n",
              "      <td>1.000</td>\n",
              "      <td>1</td>\n",
              "      <td>2022-02-25</td>\n",
              "      <td>0.702</td>\n",
              "      <td>2022-02</td>\n",
              "    </tr>\n",
              "    <tr>\n",
              "      <th>226376</th>\n",
              "      <td>226376</td>\n",
              "      <td>2022-02</td>\n",
              "      <td>203999</td>\n",
              "      <td>1</td>\n",
              "      <td>1</td>\n",
              "      <td>1</td>\n",
              "      <td>1</td>\n",
              "      <td>30.500000</td>\n",
              "      <td>1</td>\n",
              "      <td>1</td>\n",
              "      <td>...</td>\n",
              "      <td>70.0</td>\n",
              "      <td>1</td>\n",
              "      <td>1</td>\n",
              "      <td>0.000000</td>\n",
              "      <td>1</td>\n",
              "      <td>1.000</td>\n",
              "      <td>2</td>\n",
              "      <td>2022-02-24</td>\n",
              "      <td>6.050</td>\n",
              "      <td>2022-02</td>\n",
              "    </tr>\n",
              "    <tr>\n",
              "      <th>226377</th>\n",
              "      <td>226377</td>\n",
              "      <td>2022-02</td>\n",
              "      <td>203999</td>\n",
              "      <td>1</td>\n",
              "      <td>1</td>\n",
              "      <td>1</td>\n",
              "      <td>1</td>\n",
              "      <td>30.500000</td>\n",
              "      <td>1</td>\n",
              "      <td>1</td>\n",
              "      <td>...</td>\n",
              "      <td>70.0</td>\n",
              "      <td>1</td>\n",
              "      <td>1</td>\n",
              "      <td>0.000000</td>\n",
              "      <td>1</td>\n",
              "      <td>1.000</td>\n",
              "      <td>2</td>\n",
              "      <td>2022-02-25</td>\n",
              "      <td>1.650</td>\n",
              "      <td>2022-02</td>\n",
              "    </tr>\n",
              "    <tr>\n",
              "      <th>226378</th>\n",
              "      <td>226378</td>\n",
              "      <td>2022-02</td>\n",
              "      <td>204818</td>\n",
              "      <td>1</td>\n",
              "      <td>1</td>\n",
              "      <td>1</td>\n",
              "      <td>1</td>\n",
              "      <td>167.000000</td>\n",
              "      <td>1</td>\n",
              "      <td>1</td>\n",
              "      <td>...</td>\n",
              "      <td>129.0</td>\n",
              "      <td>1</td>\n",
              "      <td>1</td>\n",
              "      <td>0.000000</td>\n",
              "      <td>1</td>\n",
              "      <td>1.000</td>\n",
              "      <td>1</td>\n",
              "      <td>2022-02-26</td>\n",
              "      <td>1.216</td>\n",
              "      <td>2022-02</td>\n",
              "    </tr>\n",
              "  </tbody>\n",
              "</table>\n",
              "<p>226379 rows × 28 columns</p>\n",
              "</div>\n",
              "      <button class=\"colab-df-convert\" onclick=\"convertToInteractive('df-6f8e257a-b7df-4692-9fee-4adb10e5636d')\"\n",
              "              title=\"Convert this dataframe to an interactive table.\"\n",
              "              style=\"display:none;\">\n",
              "        \n",
              "  <svg xmlns=\"http://www.w3.org/2000/svg\" height=\"24px\"viewBox=\"0 0 24 24\"\n",
              "       width=\"24px\">\n",
              "    <path d=\"M0 0h24v24H0V0z\" fill=\"none\"/>\n",
              "    <path d=\"M18.56 5.44l.94 2.06.94-2.06 2.06-.94-2.06-.94-.94-2.06-.94 2.06-2.06.94zm-11 1L8.5 8.5l.94-2.06 2.06-.94-2.06-.94L8.5 2.5l-.94 2.06-2.06.94zm10 10l.94 2.06.94-2.06 2.06-.94-2.06-.94-.94-2.06-.94 2.06-2.06.94z\"/><path d=\"M17.41 7.96l-1.37-1.37c-.4-.4-.92-.59-1.43-.59-.52 0-1.04.2-1.43.59L10.3 9.45l-7.72 7.72c-.78.78-.78 2.05 0 2.83L4 21.41c.39.39.9.59 1.41.59.51 0 1.02-.2 1.41-.59l7.78-7.78 2.81-2.81c.8-.78.8-2.07 0-2.86zM5.41 20L4 18.59l7.72-7.72 1.47 1.35L5.41 20z\"/>\n",
              "  </svg>\n",
              "      </button>\n",
              "      \n",
              "  <style>\n",
              "    .colab-df-container {\n",
              "      display:flex;\n",
              "      flex-wrap:wrap;\n",
              "      gap: 12px;\n",
              "    }\n",
              "\n",
              "    .colab-df-convert {\n",
              "      background-color: #E8F0FE;\n",
              "      border: none;\n",
              "      border-radius: 50%;\n",
              "      cursor: pointer;\n",
              "      display: none;\n",
              "      fill: #1967D2;\n",
              "      height: 32px;\n",
              "      padding: 0 0 0 0;\n",
              "      width: 32px;\n",
              "    }\n",
              "\n",
              "    .colab-df-convert:hover {\n",
              "      background-color: #E2EBFA;\n",
              "      box-shadow: 0px 1px 2px rgba(60, 64, 67, 0.3), 0px 1px 3px 1px rgba(60, 64, 67, 0.15);\n",
              "      fill: #174EA6;\n",
              "    }\n",
              "\n",
              "    [theme=dark] .colab-df-convert {\n",
              "      background-color: #3B4455;\n",
              "      fill: #D2E3FC;\n",
              "    }\n",
              "\n",
              "    [theme=dark] .colab-df-convert:hover {\n",
              "      background-color: #434B5C;\n",
              "      box-shadow: 0px 1px 3px 1px rgba(0, 0, 0, 0.15);\n",
              "      filter: drop-shadow(0px 1px 2px rgba(0, 0, 0, 0.3));\n",
              "      fill: #FFFFFF;\n",
              "    }\n",
              "  </style>\n",
              "\n",
              "      <script>\n",
              "        const buttonEl =\n",
              "          document.querySelector('#df-6f8e257a-b7df-4692-9fee-4adb10e5636d button.colab-df-convert');\n",
              "        buttonEl.style.display =\n",
              "          google.colab.kernel.accessAllowed ? 'block' : 'none';\n",
              "\n",
              "        async function convertToInteractive(key) {\n",
              "          const element = document.querySelector('#df-6f8e257a-b7df-4692-9fee-4adb10e5636d');\n",
              "          const dataTable =\n",
              "            await google.colab.kernel.invokeFunction('convertToInteractive',\n",
              "                                                     [key], {});\n",
              "          if (!dataTable) return;\n",
              "\n",
              "          const docLinkHtml = 'Like what you see? Visit the ' +\n",
              "            '<a target=\"_blank\" href=https://colab.research.google.com/notebooks/data_table.ipynb>data table notebook</a>'\n",
              "            + ' to learn more about interactive tables.';\n",
              "          element.innerHTML = '';\n",
              "          dataTable['output_type'] = 'display_data';\n",
              "          await google.colab.output.renderOutput(dataTable, element);\n",
              "          const docLink = document.createElement('div');\n",
              "          docLink.innerHTML = docLinkHtml;\n",
              "          element.appendChild(docLink);\n",
              "        }\n",
              "      </script>\n",
              "    </div>\n",
              "  </div>\n",
              "  "
            ]
          },
          "metadata": {},
          "execution_count": 3
        }
      ],
      "source": [
        "df"
      ]
    },
    {
      "cell_type": "code",
      "execution_count": 4,
      "id": "d7cc3147",
      "metadata": {
        "colab": {
          "base_uri": "https://localhost:8080/"
        },
        "id": "d7cc3147",
        "outputId": "90a5db22-f505-4b08-c895-b84a5a3e0ab9"
      },
      "outputs": [
        {
          "output_type": "execute_result",
          "data": {
            "text/plain": [
              "Index(['Unnamed: 0', 'created_at_month', 'patient_id', 'folk_1_code',\n",
              "       'folk_2_code', 'folk_3_code', 'folk_4_code', 'comment_len',\n",
              "       'service_code', 'service_level_3_category_hash',\n",
              "       'service_level_2_category_hash', 'service_level', 'status',\n",
              "       'is_paid_by_patient', 'has_doctor', 'doctor_len', 'diagnosis_len',\n",
              "       'diagnosis_clarification_len', 'standartized_diagnosis_len',\n",
              "       'diagnosis_uuid', 'diagnosis_category_level_3_hash', 'service_status',\n",
              "       'diagnosis_category_level_1_hash', 'service_quantity', 'cnt_visit',\n",
              "       'дата убытка', 'loss', 'month'],\n",
              "      dtype='object')"
            ]
          },
          "metadata": {},
          "execution_count": 4
        }
      ],
      "source": [
        "df.columns"
      ]
    },
    {
      "cell_type": "code",
      "execution_count": 5,
      "id": "b0b60a82",
      "metadata": {
        "id": "b0b60a82"
      },
      "outputs": [],
      "source": [
        "df.loc[df['loss'].isna(), 'loss'] = df['loss'].mean()"
      ]
    },
    {
      "cell_type": "code",
      "execution_count": 6,
      "id": "5745f12f",
      "metadata": {
        "id": "5745f12f"
      },
      "outputs": [],
      "source": [
        "df.drop(columns=['Unnamed: 0'], inplace=True)"
      ]
    },
    {
      "cell_type": "code",
      "execution_count": 7,
      "id": "a42c6170",
      "metadata": {
        "colab": {
          "base_uri": "https://localhost:8080/"
        },
        "id": "a42c6170",
        "outputId": "b06a5a55-9745-4891-cd76-b29aa1c782f5"
      },
      "outputs": [
        {
          "output_type": "execute_result",
          "data": {
            "text/plain": [
              "created_at_month                   0\n",
              "patient_id                         0\n",
              "folk_1_code                        0\n",
              "folk_2_code                        0\n",
              "folk_3_code                        0\n",
              "folk_4_code                        0\n",
              "comment_len                        0\n",
              "service_code                       0\n",
              "service_level_3_category_hash      0\n",
              "service_level_2_category_hash      0\n",
              "service_level                      0\n",
              "status                             0\n",
              "is_paid_by_patient                 0\n",
              "has_doctor                         0\n",
              "doctor_len                         0\n",
              "diagnosis_len                      0\n",
              "diagnosis_clarification_len        0\n",
              "standartized_diagnosis_len         0\n",
              "diagnosis_uuid                     0\n",
              "diagnosis_category_level_3_hash    0\n",
              "service_status                     0\n",
              "diagnosis_category_level_1_hash    0\n",
              "service_quantity                   0\n",
              "cnt_visit                          0\n",
              "дата убытка                        0\n",
              "loss                               0\n",
              "month                              0\n",
              "dtype: int64"
            ]
          },
          "metadata": {},
          "execution_count": 7
        }
      ],
      "source": [
        "df.isna().sum()"
      ]
    },
    {
      "cell_type": "code",
      "execution_count": 8,
      "id": "b92a5068",
      "metadata": {
        "colab": {
          "base_uri": "https://localhost:8080/"
        },
        "id": "b92a5068",
        "outputId": "3b3275c6-8c42-49c7-c0a2-28e9443c71ba"
      },
      "outputs": [
        {
          "output_type": "execute_result",
          "data": {
            "text/plain": [
              "created_at_month                    object\n",
              "patient_id                           int64\n",
              "folk_1_code                          int64\n",
              "folk_2_code                          int64\n",
              "folk_3_code                          int64\n",
              "folk_4_code                          int64\n",
              "comment_len                        float64\n",
              "service_code                         int64\n",
              "service_level_3_category_hash        int64\n",
              "service_level_2_category_hash        int64\n",
              "service_level                      float64\n",
              "status                              object\n",
              "is_paid_by_patient                    bool\n",
              "has_doctor                            bool\n",
              "doctor_len                           int64\n",
              "diagnosis_len                        int64\n",
              "diagnosis_clarification_len          int64\n",
              "standartized_diagnosis_len         float64\n",
              "diagnosis_uuid                       int64\n",
              "diagnosis_category_level_3_hash      int64\n",
              "service_status                     float64\n",
              "diagnosis_category_level_1_hash      int64\n",
              "service_quantity                   float64\n",
              "cnt_visit                            int64\n",
              "дата убытка                         object\n",
              "loss                               float64\n",
              "month                               object\n",
              "dtype: object"
            ]
          },
          "metadata": {},
          "execution_count": 8
        }
      ],
      "source": [
        "df.dtypes"
      ]
    },
    {
      "cell_type": "code",
      "execution_count": 9,
      "id": "58475290",
      "metadata": {
        "id": "58475290"
      },
      "outputs": [],
      "source": [
        "df['created_at_month'] = pd.to_datetime(df['created_at_month'], format='%Y-%m')\n",
        "df['дата убытка'] = pd.to_datetime(df['дата убытка'], format='%Y-%m-%d')\n",
        "\n",
        "df['created_month'] = df['created_at_month'].dt.month\n",
        "df['created_year'] = df['created_at_month'].dt.year\n",
        "\n",
        "\n",
        "df['loss_month'] = df['дата убытка'].dt.month\n",
        "df['loss_year'] = df['дата убытка'].dt.year\n",
        "df['loss_day'] = df['дата убытка'].dt.day"
      ]
    },
    {
      "cell_type": "code",
      "execution_count": 10,
      "id": "fee5f045",
      "metadata": {
        "id": "fee5f045"
      },
      "outputs": [],
      "source": [
        "from sklearn.model_selection import train_test_split\n",
        "\n",
        "X, y = df.drop(columns=['loss', 'created_at_month', 'дата убытка', 'month']), df['loss']\n",
        "X_train, X_test, y_train, y_test = train_test_split(X, y, test_size=0.3, random_state=10)"
      ]
    },
    {
      "cell_type": "code",
      "source": [
        "df.columns"
      ],
      "metadata": {
        "colab": {
          "base_uri": "https://localhost:8080/"
        },
        "id": "l1IOeo66-VsN",
        "outputId": "43c280bc-5ada-4609-a078-7626ad601baa"
      },
      "id": "l1IOeo66-VsN",
      "execution_count": 11,
      "outputs": [
        {
          "output_type": "execute_result",
          "data": {
            "text/plain": [
              "Index(['created_at_month', 'patient_id', 'folk_1_code', 'folk_2_code',\n",
              "       'folk_3_code', 'folk_4_code', 'comment_len', 'service_code',\n",
              "       'service_level_3_category_hash', 'service_level_2_category_hash',\n",
              "       'service_level', 'status', 'is_paid_by_patient', 'has_doctor',\n",
              "       'doctor_len', 'diagnosis_len', 'diagnosis_clarification_len',\n",
              "       'standartized_diagnosis_len', 'diagnosis_uuid',\n",
              "       'diagnosis_category_level_3_hash', 'service_status',\n",
              "       'diagnosis_category_level_1_hash', 'service_quantity', 'cnt_visit',\n",
              "       'дата убытка', 'loss', 'month', 'created_month', 'created_year',\n",
              "       'loss_month', 'loss_year', 'loss_day'],\n",
              "      dtype='object')"
            ]
          },
          "metadata": {},
          "execution_count": 11
        }
      ]
    },
    {
      "cell_type": "code",
      "source": [
        "categorical = ['patient_id', 'service_code',\n",
        "       'service_level_3_category_hash', 'service_level_2_category_hash',\n",
        "       'service_level', 'status', 'is_paid_by_patient', 'has_doctor', 'diagnosis_uuid',\n",
        "       'diagnosis_category_level_3_hash', 'service_status',\n",
        "       'diagnosis_category_level_1_hash', 'loss_month', 'loss_year', \n",
        "           'loss_day', 'created_month', 'created_year']\n",
        "\n",
        "numeric = ['comment_len', 'doctor_len', 'diagnosis_len', 'diagnosis_clarification_len', \n",
        "          'standartized_diagnosis_len', 'service_quantity', 'cnt_visit']"
      ],
      "metadata": {
        "id": "xoY8zH81-Lqj"
      },
      "id": "xoY8zH81-Lqj",
      "execution_count": 21,
      "outputs": []
    },
    {
      "cell_type": "code",
      "execution_count": 22,
      "id": "910e3c6c",
      "metadata": {
        "colab": {
          "base_uri": "https://localhost:8080/"
        },
        "id": "910e3c6c",
        "outputId": "c48e7f44-abea-48e5-fed0-2856ac9d1a55"
      },
      "outputs": [
        {
          "output_type": "stream",
          "name": "stdout",
          "text": [
            "Test RMSE = 4.8426\n",
            "Test MAE = 2.7899\n"
          ]
        }
      ],
      "source": [
        "from sklearn.metrics import mean_squared_error\n",
        "from sklearn.metrics import mean_absolute_error\n",
        "\n",
        "from sklearn.linear_model import Ridge\n",
        "from sklearn.metrics import mean_squared_error\n",
        "from sklearn.preprocessing import OneHotEncoder\n",
        "from sklearn.compose import ColumnTransformer\n",
        "from sklearn.pipeline import Pipeline\n",
        "from sklearn.preprocessing import StandardScaler\n",
        "\n",
        "column_transformer = ColumnTransformer([\n",
        "    ('ohe', OneHotEncoder(handle_unknown=\"ignore\"), categorical),\n",
        "    ('scaling', StandardScaler(), numeric)\n",
        "])\n",
        "\n",
        "pipeline = Pipeline(steps=[\n",
        "    ('ohe_and_scaling', column_transformer),\n",
        "    ('regression', Ridge())\n",
        "])\n",
        "\n",
        "model = pipeline.fit(X_train, y_train)\n",
        "y_pred = model.predict(X_test)\n",
        "\n",
        "print(\"Test RMSE = %.4f\" % mean_squared_error(y_test, y_pred, squared=False))\n",
        "print(\"Test MAE = %.4f\" % mean_absolute_error(y_test, y_pred))"
      ]
    },
    {
      "cell_type": "code",
      "source": [
        "from sklearn.metrics import mean_squared_error\n",
        "from sklearn.metrics import mean_absolute_error\n",
        "\n",
        "from sklearn.linear_model import Lasso\n",
        "from sklearn.metrics import mean_squared_error\n",
        "from sklearn.preprocessing import OneHotEncoder\n",
        "from sklearn.compose import ColumnTransformer\n",
        "from sklearn.pipeline import Pipeline\n",
        "from sklearn.preprocessing import StandardScaler\n",
        "\n",
        "column_transformer = ColumnTransformer([\n",
        "    ('ohe', OneHotEncoder(handle_unknown=\"ignore\"), categorical),\n",
        "    ('scaling', StandardScaler(), numeric)\n",
        "])\n",
        "\n",
        "pipeline = Pipeline(steps=[\n",
        "    ('ohe_and_scaling', column_transformer),\n",
        "    ('regression', Lasso())\n",
        "])\n",
        "\n",
        "model = pipeline.fit(X_train, y_train)\n",
        "y_pred = model.predict(X_test)\n",
        "\n",
        "print(\"Test RMSE = %.4f\" % mean_squared_error(y_test, y_pred, squared=False))\n",
        "print(\"Test MAE = %.4f\" % mean_absolute_error(y_test, y_pred))"
      ],
      "metadata": {
        "colab": {
          "base_uri": "https://localhost:8080/"
        },
        "id": "hstHnhtLAD2q",
        "outputId": "c6defc93-4b7b-41a1-9481-b17f431f2e2e"
      },
      "id": "hstHnhtLAD2q",
      "execution_count": 24,
      "outputs": [
        {
          "output_type": "stream",
          "name": "stdout",
          "text": [
            "Test RMSE = 5.2610\n",
            "Test MAE = 3.1166\n"
          ]
        }
      ]
    },
    {
      "cell_type": "code",
      "source": [
        "from sklearn.model_selection import GridSearchCV\n",
        "\n",
        "_, X_val, _, y_val = train_test_split(X_train, y_train, test_size=0.2, random_state=10)\n",
        "\n",
        "alphas = np.logspace(-4, 0, 20)\n",
        "searcher = GridSearchCV(Lasso(), [{\"alpha\": alphas}], scoring=\"neg_root_mean_squared_error\", cv=10)\n",
        "searcher.fit(column_transformer.transform(X_val), y_val)\n",
        "\n",
        "best_alpha = searcher.best_params_[\"alpha\"]\n",
        "print(\"Best alpha = %.4f\" % best_alpha)\n",
        "\n",
        "plt.plot(alphas, -searcher.cv_results_[\"mean_test_score\"])\n",
        "plt.xscale(\"log\")\n",
        "plt.xlabel(\"alpha\")\n",
        "plt.ylabel(\"CV score\")"
      ],
      "metadata": {
        "colab": {
          "base_uri": "https://localhost:8080/"
        },
        "id": "_muvzwrIADzp",
        "outputId": "49c7d75d-6a17-4cd8-fc26-7a84e5672ea6"
      },
      "id": "_muvzwrIADzp",
      "execution_count": null,
      "outputs": [
        {
          "output_type": "stream",
          "name": "stderr",
          "text": [
            "/usr/local/lib/python3.7/dist-packages/sklearn/linear_model/_coordinate_descent.py:622: ConvergenceWarning: Objective did not converge. You might want to increase the number of iterations. Duality gap: 672.7605470793205, tolerance: 76.08383576249621\n",
            "  positive,\n",
            "/usr/local/lib/python3.7/dist-packages/sklearn/linear_model/_coordinate_descent.py:622: ConvergenceWarning: Objective did not converge. You might want to increase the number of iterations. Duality gap: 566.4413455786416, tolerance: 75.00235565803287\n",
            "  positive,\n"
          ]
        }
      ]
    },
    {
      "cell_type": "code",
      "source": [
        ""
      ],
      "metadata": {
        "id": "VITlVFQ5ADrE"
      },
      "id": "VITlVFQ5ADrE",
      "execution_count": null,
      "outputs": []
    },
    {
      "cell_type": "code",
      "execution_count": null,
      "id": "8c0b680d",
      "metadata": {
        "id": "8c0b680d"
      },
      "outputs": [],
      "source": [
        "from sklearn.metrics import mean_squared_error\n",
        "from sklearn.metrics import mean_absolute_error\n",
        "\n",
        "print(\"Test RMSE = %.4f\" % mean_squared_error(y_test, y_pred, squared=False))\n",
        "print(\"Test MAE = %.4f\" % mean_absolute_error(y_test, y_pred))"
      ]
    },
    {
      "cell_type": "code",
      "execution_count": null,
      "id": "095fc15a",
      "metadata": {
        "id": "095fc15a"
      },
      "outputs": [],
      "source": [
        ""
      ]
    },
    {
      "cell_type": "code",
      "execution_count": null,
      "id": "6217656f",
      "metadata": {
        "id": "6217656f"
      },
      "outputs": [],
      "source": [
        ""
      ]
    },
    {
      "cell_type": "code",
      "execution_count": null,
      "id": "cc5d2f54",
      "metadata": {
        "id": "cc5d2f54"
      },
      "outputs": [],
      "source": [
        ""
      ]
    },
    {
      "cell_type": "code",
      "execution_count": null,
      "id": "76640611",
      "metadata": {
        "id": "76640611"
      },
      "outputs": [],
      "source": [
        ""
      ]
    }
  ],
  "metadata": {
    "kernelspec": {
      "display_name": "Python 3",
      "language": "python",
      "name": "python3"
    },
    "language_info": {
      "codemirror_mode": {
        "name": "ipython",
        "version": 3
      },
      "file_extension": ".py",
      "mimetype": "text/x-python",
      "name": "python",
      "nbconvert_exporter": "python",
      "pygments_lexer": "ipython3",
      "version": "3.8.2"
    },
    "colab": {
      "name": "Ridge_Lasso.ipynb",
      "provenance": []
    }
  },
  "nbformat": 4,
  "nbformat_minor": 5
}